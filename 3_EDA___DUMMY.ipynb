{
 "cells": [
  {
   "cell_type": "markdown",
   "metadata": {},
   "source": [
    "<h1 align=center><font size = 6>INDIA Vs COVID-19</font></h1>\n",
    "<h2 align=center><font size = 6>Exploratory Data Analysis & Visualization</font></h2>\n",
    "By : <a href=\"https://www.blogger.com/profile/01288628031125822619\" target=\"_blank\">Neeraj Singh Rawat</a>"
   ]
  },
  {
   "cell_type": "markdown",
   "metadata": {},
   "source": [
    "Welcome to **2020** … it’s crazy.\n",
    "\n",
    "Assuming that you’re quarantined right now, you probably have some extra time on your hands.\n",
    "\n",
    "This is a perfect time to learn a new skill or do something productive.\n",
    "\n",
    "In fact, it’s a great time to <a href=\"https://www.dexlabanalytics.com/\" target=\"_blank\">Master Data Science in Python</a>.\n",
    "\n",
    "So.. Lets Start...!!!"
   ]
  },
  {
   "cell_type": "markdown",
   "metadata": {},
   "source": [
    "# Table of Contents\n",
    "\n",
    "* [Where India stands currently](#6)\n",
    "* [A QUICK REVIEW OF THE PROCESS](#7)\n",
    "* [Data_set Sources](#8)\n",
    "* [About COVID-19 (Fig. view)](#9)\n",
    "* [About SHIPS (Fig. view)](#10)\n",
    "* [About Indian Status on Covid*19 (Fig. view)](#11)\n",
    "* [Imported Libraries](#12)\n",
    "* [Collecting Data](#13)\n",
    "* [Data Inspecting](#14)\n",
    "* [Preprocessing](#15)\n",
    "*****************************************\n",
    "*******************************************\n",
    "\n",
    "\n",
    "\n",
    "\n",
    "\n",
    "\n",
    "\n",
    "\n",
    "\n",
    "* [Testing in India](#8)\n",
    "* [Statewise Insights](#5)\n",
    "* [Statewise Testing and Healthcare Insights](#6)\n",
    "* [Economic Impact of COVID-19 on India](#4)\n",
    "* [Prediction](#7)\n",
    "     * [Growth Factor](#9)\n",
    "     * [Prophet Model](#10)\n",
    "     * [ARIMA (5,2,0)](#11)\n",
    "     * [LightGBM](#12)\n",
    "     * [Random Forest Regressor](#13)\n",
    "     * [XGBoost Regressor](#14)\n",
    "* [Interesting Insights from other Sources](#25)"
   ]
  },
  {
   "cell_type": "markdown",
   "metadata": {},
   "source": [
    "# Where India stands currently?\n",
    "__The Story of COVID-19 in India__\n",
    "\n",
    "* The COVID-19 pandemic is the defining global health crisis of our time and the greatest global humanitarian challenge the world has faced since World War II. The virus has spread widely, and the number of cases is rising daily as governments work to slow its spread. India has moved quickly, implementing a proactive, nationwide, lockdown, with the goal of flattening the curve and using the time to plan and resource responses adequately.\n",
    "* COVID19 outbreak has started a bit late in India as compared to other countries. But, it has started to pick up pace. With limited testing and not a well funded healthcare system, India is surely up for a challenge. Still the fight is on after 3 lockdowns (4th in progress, till May 31, 2020) and the virus shows no signs of slowing down."
   ]
  },
  {
   "cell_type": "markdown",
   "metadata": {},
   "source": [
    "__A QUICK REVIEW OF THE PROCESS__\n",
    "\n",
    "Here we’ll analyze some covid19 data with Python. Specifically, we’re going to use Pandas, Numpy, matplotlib, seaborn, and possibly a little Plotly.\n",
    "\n",
    "You’ll probably want to be familiar with all of them, but if not, that’s okay. You’ll still be able to run the code and [here](https://www.dexlabanalytics.com/blog) you can refer to some other tutorials and blogs that explain individual techniques in more depth.\n",
    "\n",
    "That being said, you’ll be able to play with the code regardless.\n",
    "But if you’re really serious about this, you’ll want to eventually [Master Data Science in Python](https://www.dexlabanalytics.com/courses/data-science-with-python-certification)"
   ]
  },
  {
   "cell_type": "markdown",
   "metadata": {},
   "source": [
    "## Sources:\n",
    "* __World Data__ Dataset consists of time-series data from 22 JAN 2020 to Till date (Updated on daily Basis).\n",
    "> * [GitHub Repo created by Johns Hopkins University](https://github.com/CSSEGISandData/COVID-19/tree/master)\n",
    "> * [Kaggle (Updated more frequently)](https://www.kaggle.com/headsortails/covid19-us-county-jhu-data-demographics)\n",
    "\n",
    "\n",
    "* __Indian Data__\n",
    "> * [Ministry of Health and Family Welfare, Government of India](https://www.mohfw.gov.in)\n",
    "> * [INDIA Data set](https:/kaggle.com)\n",
    "\n",
    "* __Code Help__\n",
    "> * [Matplotlib plots](https://matplotlib.org/3.1.1/gallery/index.html)\n",
    "> * [Plotly maps](https://plotly.com/python/)\n",
    "\n",
    "* __Other__\n",
    "> * [World Dashboard](https://www.arcgis.com/apps/opsdashboard/index.html#/bda7594740fd40299423467b48e9ecf6)\n",
    "> * [India Dashboard](https://www.covid19india.org)\n",
    "> * [Color Palettes ](https://www.color-hex.com/color-palettes/)"
   ]
  },
  {
   "cell_type": "markdown",
   "metadata": {},
   "source": [
    "### COVID-19"
   ]
  },
  {
   "cell_type": "code",
   "execution_count": null,
   "metadata": {},
   "outputs": [],
   "source": [
    "from IPython.core.display import HTML\n",
    "HTML('''<div class=\"flourish-embed flourish-cards\" data-src=\"visualisation/1810417\" data-url=\"https://flo.uri.sh/visualisation/1810417/embed\"><script src=\"https://public.flourish.studio/resources/embed.js\"></script></div>''')"
   ]
  },
  {
   "cell_type": "markdown",
   "metadata": {},
   "source": [
    "### SHIPS"
   ]
  },
  {
   "cell_type": "code",
   "execution_count": null,
   "metadata": {},
   "outputs": [],
   "source": [
    "#Cruise Shipes\n",
    "HTML('''<div class=\"flourish-embed flourish-cards\" data-src=\"visualisation/1816605\" data-url=\"https://flo.uri.sh/visualisation/1816605/embed\"><script src=\"https://public.flourish.studio/resources/embed.js\"></script></div>''')"
   ]
  },
  {
   "cell_type": "code",
   "execution_count": null,
   "metadata": {},
   "outputs": [],
   "source": [
    "#INDIA\n",
    "HTML('''<div class=\"flourish-embed flourish-cards\" data-src=\"visualisation/1786965\" data-url=\"https://flo.uri.sh/visualisation/1786965/embed\"><script src=\"https://public.flourish.studio/resources/embed.js\"></script></div>''')"
   ]
  },
  {
   "cell_type": "markdown",
   "metadata": {},
   "source": [
    "## Libraries"
   ]
  },
  {
   "cell_type": "code",
   "execution_count": 1,
   "metadata": {
    "code_folding": [
     0
    ]
   },
   "outputs": [],
   "source": [
    "# Importing required Lib\n",
    "\n",
    "# storing and anaysis\n",
    "import pandas as pd\n",
    "import numpy as np\n",
    "\n",
    "import datetime\n",
    "from datetime import datetime, timedelta,date\n",
    "\n",
    "# visualization\n",
    "import matplotlib.pyplot as plt\n",
    "import matplotlib.dates as mdates\n",
    "from matplotlib import ticker\n",
    "import pycountry_convert as pc\n",
    "import seaborn as sns\n",
    "import squarify\n",
    "import plotly.offline as py\n",
    "import plotly_express as px\n",
    "import plotly.graph_objects as go\n",
    "from plotly.subplots import make_subplots\n",
    "import folium\n",
    "\n",
    "from xgboost import XGBRegressor\n",
    "from lightgbm import LGBMRegressor\n",
    "from sklearn.ensemble import RandomForestRegressor\n",
    "from sklearn.svm import SVR\n",
    "from sklearn.metrics import mean_squared_error, mean_absolute_error\n",
    "from sklearn.preprocessing import OrdinalEncoder\n",
    "from sklearn.svm import SVR\n",
    "from sklearn.model_selection import train_test_split\n",
    "from statsmodels.tsa.arima_model import ARIMA\n",
    "#from fbprophet import Prophet\n",
    "#from fbprophet.plot import plot_plotly, add_changepoints_to_plot\n",
    "\n",
    "# HTML embedding\n",
    "import requests\n",
    "from IPython.display import display\n",
    "from IPython.display import Image\n",
    "\n",
    "# hide warnings\n",
    "import warnings\n",
    "warnings.filterwarnings('ignore')"
   ]
  },
  {
   "cell_type": "code",
   "execution_count": 2,
   "metadata": {
    "code_folding": [
     0
    ]
   },
   "outputs": [],
   "source": [
    "# use any one from below\n",
    "%matplotlib inline\n",
    "#%matplotlib notebook"
   ]
  },
  {
   "cell_type": "markdown",
   "metadata": {},
   "source": [
    "__GET RAW DATA__\n",
    "\n",
    "We’re going to get the raw csv data, which is easier to retrieve.\n",
    "\n",
    "This data comes from a github <a href=\"https://dsreka.blogspot.com\" target=\"_blank\">repository for Covid-19 data</a>, originaly created by <a href=\"https://raw.githubusercontent.com/CSSEGISandData/COVID-19/master/csse_covid_19_data/csse_covid_19_time_series/time_series_covid19_confirmed_global.csv\" target=\"_blank\">Johns Hopkins</a>.\n",
    "\n",
    "To get the raw data, we’re going to use the Pandas read_csv function. The read_csv function does exactly what it sounds like …. it reads in csv data."
   ]
  },
  {
   "cell_type": "code",
   "execution_count": 3,
   "metadata": {},
   "outputs": [],
   "source": [
    "                                        ##############################\n",
    "                                        #         World Data         #\n",
    "                                        ##############################\n",
    "\n",
    "URL1='https://raw.githubusercontent.com/CSSEGISandData/COVID-19/master/csse_covid_19_data/csse_covid_19_daily_reports/05-02-2020.csv'\n",
    "\n",
    "URL2='https://raw.githubusercontent.com/CSSEGISandData/COVID-19/master/csse_covid_19_data/csse_covid_19_time_series/time_series_covid19_confirmed_global.csv'\n",
    "\n",
    "URL3='https://raw.githubusercontent.com/CSSEGISandData/COVID-19/master/csse_covid_19_data/csse_covid_19_time_series/time_series_covid19_recovered_global.csv'\n",
    "\n",
    "URL4='https://raw.githubusercontent.com/CSSEGISandData/COVID-19/master/csse_covid_19_data/csse_covid_19_time_series/time_series_covid19_deaths_global.csv'\n",
    "\n",
    "URL5='https://raw.githubusercontent.com/CSSEGISandData/COVID-19/web-data/data/cases_country.csv'\n",
    "\n",
    "URL6='https://raw.githubusercontent.com/CSSEGISandData/COVID-19/web-data/data/cases_time.csv'\n",
    "\n",
    "latest_data = pd.read_csv(URL1)  # Last Updated Data\n",
    "\n",
    "confirmed_df = pd.read_csv(URL2) #Comfirmed Case\n",
    "\n",
    "recovered_df = pd.read_csv(URL3) # Recoverd Case\n",
    "\n",
    "deaths_df = pd.read_csv(URL4) # Number of Deaths\n",
    "\n",
    "covid19_df = pd.read_csv(URL5) #Country Cases\n",
    "covid19_df = covid19_df.drop([\"People_Tested\",\"People_Hospitalized\",\"UID\",\"ISO3\",\"Mortality_Rate\"],axis =1)\n",
    "\n",
    "table_df = pd.read_csv(URL6,parse_dates=['Last_Update']) #Timely Cases\n",
    "\n",
    "world_population = pd.read_csv('population_by_country_2020.csv') #World Population\n",
    "\n",
    "\n",
    "                                         ##############################\n",
    "                                         #          INDIA Data        #\n",
    "                                         ##############################\n",
    "            \n",
    "URL7 = 'https://www.mohfw.gov.in/'\n",
    "df_india = pd.read_html(URL7)[-1]\n",
    "\n",
    "#india_covid_19 = pd.read_csv('covid_19_india.csv')\n",
    "#india_covid_19['Date'] = pd.to_datetime(india_covid_19['Date'],dayfirst = True)\n",
    "\n",
    "hospital_beds = pd.read_csv('HospitalBedsIndia.csv')\n",
    "\n",
    "ICMR_details = pd.read_csv('ICMRTestingDetails.csv')\n",
    "ICMR_details['DateTime'] = pd.to_datetime(ICMR_details['DateTime'],dayfirst = True)\n",
    "ICMR_details = ICMR_details.dropna(subset=['TotalSamplesTested', 'TotalPositiveCases'])\n",
    "\n",
    "ICMR_labs = pd.read_csv('ICMRTestingLabs.csv')\n",
    "\n",
    "state_testing = pd.read_csv('StatewiseTestingDetails.csv')\n",
    "state_testing['Date'] = pd.to_datetime(state_testing['Date'])\n",
    "\n",
    "population = pd.read_csv('population_india_census2011.csv')\n",
    "\n",
    "age_details = pd.read_csv('AgeGroupDetails.csv')\n",
    "\n",
    "individual_details = pd.read_csv('IndividualDetails.csv')"
   ]
  },
  {
   "cell_type": "markdown",
   "metadata": {},
   "source": [
    "__INSPECT__\n",
    "\n",
    "Now, let’s just inspect a few rows of our data to check how it looks. [Dataframe Quick Overview](./2_Data_Frame_Observation.ipynb)"
   ]
  },
  {
   "cell_type": "markdown",
   "metadata": {},
   "source": [
    "**NOTE:** Keep in mind that your data might look a little different. I’m retrieving this data on June 01, 2020 (12:05 am), so the dataset has records up to 05/31/20. If you run this code on a different date, your data will be more up-to-date."
   ]
  },
  {
   "cell_type": "markdown",
   "metadata": {},
   "source": [
    "### Preprocessing"
   ]
  },
  {
   "cell_type": "code",
   "execution_count": 4,
   "metadata": {},
   "outputs": [],
   "source": [
    "                                        ##############################\n",
    "                                        #         World Data         #\n",
    "                                        ##############################\n",
    "\n",
    "# Renaming Columns\n",
    "confirmed_df = confirmed_df.rename(columns={\"Province/State\":\"state\",\"Country/Region\": \"country\"})\n",
    "deaths_df= deaths_df.rename(columns={\"Province/State\":\"state\",\"Country/Region\": \"country\"})\n",
    "covid19_df = covid19_df.rename(columns={\"Country_Region\": \"country\"})\n",
    "covid19_df[\"Active\"] = covid19_df[\"Confirmed\"]-covid19_df[\"Recovered\"]-covid19_df[\"Deaths\"]\n",
    "recovered_df = recovered_df.rename(columns={\"Province/State\":\"state\",\"Country/Region\": \"country\"})\n",
    "\n",
    "\n",
    "# Conuntry names as pycountry_convert Lib\n",
    "confirmed_df.loc[confirmed_df['country'] == \"US\", \"country\"] = \"USA\"\n",
    "deaths_df.loc[deaths_df['country'] == \"US\", \"country\"] = \"USA\"\n",
    "covid19_df.loc[covid19_df['country'] == \"US\", \"country\"] = \"USA\"\n",
    "table_df.loc[table_df['Country_Region'] == \"US\", \"Country_Region\"] = \"USA\"\n",
    "recovered_df.loc[recovered_df['country'] == \"US\", \"country\"] = \"USA\"\n",
    "\n",
    "\n",
    "confirmed_df.loc[confirmed_df['country'] == 'Korea, South', \"country\"] = 'South Korea'\n",
    "deaths_df.loc[deaths_df['country'] == 'Korea, South', \"country\"] = 'South Korea'\n",
    "covid19_df.loc[covid19_df['country'] == \"Korea, South\", \"country\"] = \"South Korea\"\n",
    "table_df.loc[table_df['Country_Region'] == \"Korea, South\", \"Country_Region\"] = \"South Korea\"\n",
    "recovered_df.loc[recovered_df['country'] == 'Korea, South', \"country\"] = 'South Korea'\n",
    "\n",
    "\n",
    "confirmed_df.loc[confirmed_df['country'] == 'Taiwan*', \"country\"] = 'Taiwan'\n",
    "deaths_df.loc[deaths_df['country'] == 'Taiwan*', \"country\"] = 'Taiwan'\n",
    "covid19_df.loc[covid19_df['country'] == \"Taiwan*\", \"country\"] = \"Taiwan\"\n",
    "table_df.loc[table_df['Country_Region'] == \"Taiwan*\", \"Country_Region\"] = \"Taiwan\"\n",
    "recovered_df.loc[recovered_df['country'] == 'Taiwan*', \"country\"] = 'Taiwan'\n",
    "\n",
    "\n",
    "confirmed_df.loc[confirmed_df['country'] == 'Taiwan*', \"country\"] = 'Taiwan'\n",
    "deaths_df.loc[deaths_df['country'] == 'Taiwan*', \"country\"] = 'Taiwan'\n",
    "covid19_df.loc[covid19_df['country'] == \"Taiwan*\", \"country\"] = \"Taiwan\"\n",
    "table_df.loc[table_df['Country_Region'] == \"Taiwan*\", \"Country_Region\"] = \"Taiwan\"\n",
    "recovered_df.loc[recovered_df['country'] == 'Taiwan*', \"country\"] = 'Taiwan'\n",
    "\n",
    "\n",
    "confirmed_df.loc[confirmed_df['country'] == 'Congo (Kinshasa)', \"country\"] = 'Democratic Republic of the Congo'\n",
    "deaths_df.loc[deaths_df['country'] == 'Congo (Kinshasa)', \"country\"] = 'Democratic Republic of the Congo'\n",
    "covid19_df.loc[covid19_df['country'] == \"Congo (Kinshasa)\", \"country\"] = \"Democratic Republic of the Congo\"\n",
    "table_df.loc[table_df['Country_Region'] == \"Congo (Kinshasa)\", \"Country_Region\"] = \"Democratic Republic of the Congo\"\n",
    "recovered_df.loc[recovered_df['country'] == 'Congo (Kinshasa)', \"country\"] = 'Democratic Republic of the Congo'\n",
    "\n",
    "\n",
    "confirmed_df.loc[confirmed_df['country'] == \"Cote d'Ivoire\", \"country\"] = \"Côte d'Ivoire\"\n",
    "deaths_df.loc[deaths_df['country'] == \"Cote d'Ivoire\", \"country\"] = \"Côte d'Ivoire\"\n",
    "covid19_df.loc[covid19_df['country'] == \"Cote d'Ivoire\", \"country\"] = \"Côte d'Ivoire\"\n",
    "table_df.loc[table_df['Country_Region'] == \"Cote d'Ivoire\", \"Country_Region\"] = \"Côte d'Ivoire\"\n",
    "recovered_df.loc[recovered_df['country'] == \"Cote d'Ivoire\", \"country\"] = \"Côte d'Ivoire\"\n",
    "\n",
    "\n",
    "confirmed_df.loc[confirmed_df['country'] == \"Reunion\", \"country\"] = \"Réunion\"\n",
    "deaths_df.loc[deaths_df['country'] == \"Reunion\", \"country\"] = \"Réunion\"\n",
    "covid19_df.loc[covid19_df['country'] == \"Reunion\", \"country\"] = \"Réunion\"\n",
    "table_df.loc[table_df['Country_Region'] == \"Reunion\", \"Country_Region\"] = \"Réunion\"\n",
    "recovered_df.loc[recovered_df['country'] == \"Reunion\", \"country\"] = \"Réunion\"\n",
    "\n",
    "\n",
    "confirmed_df.loc[confirmed_df['country'] == 'Congo (Brazzaville)', \"country\"] = 'Republic of the Congo'\n",
    "deaths_df.loc[deaths_df['country'] == 'Congo (Brazzaville)', \"country\"] = 'Republic of the Congo'\n",
    "covid19_df.loc[covid19_df['country'] == \"Congo (Brazzaville)\", \"country\"] = \"Republic of the Congo\"\n",
    "table_df.loc[table_df['Country_Region'] == \"Congo (Brazzaville)\", \"Country_Region\"] = \"Republic of the Congo\"\n",
    "recovered_df.loc[recovered_df['country'] == 'Congo (Brazzaville)', \"country\"] = 'Republic of the Congo'\n",
    "\n",
    "\n",
    "confirmed_df.loc[confirmed_df['country'] == 'Bahamas, The', \"country\"] = 'Bahamas'\n",
    "deaths_df.loc[deaths_df['country'] == 'Bahamas, The', \"country\"] = 'Bahamas'\n",
    "covid19_df.loc[covid19_df['country'] == \"Bahamas, The\", \"country\"] = \"Bahamas\"\n",
    "table_df.loc[table_df['Country_Region'] == \"Bahamas, The\", \"Country_Region\"] = \"Bahamas\"\n",
    "recovered_df.loc[recovered_df['country'] == 'Bahamas, The', \"country\"] = 'Bahamas'\n",
    "\n",
    "\n",
    "confirmed_df.loc[confirmed_df['country'] == 'Gambia, The', \"country\"] = 'Gambia'\n",
    "deaths_df.loc[deaths_df['country'] == 'Gambia, The', \"country\"] = 'Gambia'\n",
    "covid19_df.loc[covid19_df['country'] == \"Gambia, The\", \"country\"] = \"Gambia\"\n",
    "table_df.loc[table_df['Country_Region'] == \"Gambia\", \"Country_Region\"] = \"Gambia\"\n",
    "recovered_df.loc[recovered_df['country'] == 'Gambia, The', \"country\"] = 'Gambia'"
   ]
  },
  {
   "cell_type": "markdown",
   "metadata": {},
   "source": [
    "import pandas as pd\n",
    "import numpy as np\n",
    "df_india = pd.read_html('https://www.mohfw.gov.in/')[-1]"
   ]
  },
  {
   "cell_type": "code",
   "execution_count": 5,
   "metadata": {
    "code_folding": [
     6,
     17
    ]
   },
   "outputs": [],
   "source": [
    "                                         ##############################\n",
    "                                         #          INDIA Data        #\n",
    "                                         ##############################\n",
    "\n",
    "\n",
    "# Removing Rows from tail of data which are not to be used\n",
    "df_india.drop([ df_india.index[36], df_india.index[37],\n",
    "               df_india.index[38], df_india.index[39],\n",
    "               df_india.index[40]], inplace= True)\n",
    "\n",
    "\n",
    "# Converting dtype from Object to Int64\n",
    "df_india['Total Confirmed cases*'] = df_india['Total Confirmed cases*'].astype(float).astype('Int64')\n",
    "df_india['Cured/Discharged/Migrated'] = df_india['Cured/Discharged/Migrated'].astype(float).astype('Int64')\n",
    "df_india['Deaths**'] = df_india['Deaths**'].astype(float).astype('Int64')\n",
    "\n",
    "# Renaming Columns\n",
    "df_india.rename(columns={\"Total Confirmed cases*\":\"Confirmed\",\n",
    "                                    \"Cured/Discharged/Migrated\": \"Recovered\",\n",
    "                                   \"Deaths**\": \"Deaths\"}, inplace = True)"
   ]
  },
  {
   "cell_type": "code",
   "execution_count": null,
   "metadata": {
    "code_folding": [
     0,
     8,
     19,
     20,
     22
    ],
    "scrolled": false
   },
   "outputs": [],
   "source": [
    "# CHECK source\n",
    "\n",
    "# Getting all countries\n",
    "\n",
    "countries = np.asarray(confirmed_df[\"country\"])\n",
    "countries1 = np.asarray(covid19_df[\"country\"])\n",
    "\n",
    "# Continent_names\n",
    "continents = {\n",
    "    'NA': 'North America',\n",
    "    'SA': 'South America', \n",
    "    'AS': 'Asia',\n",
    "    'OC': 'Australia',\n",
    "    'AF': 'Africa',\n",
    "    'EU' : 'Europe',\n",
    "    'na' : 'Others'\n",
    "}\n",
    "\n",
    "# Defininng Function for getting continent code for country (Source: KAGGLE) // iso3166.\n",
    "def country_to_continent_code(country):\n",
    "    try:\n",
    "        return pc.country_alpha2_to_continent_code(pc.country_name_to_country_alpha2(country))\n",
    "    except :\n",
    "        return 'na'\n",
    "\n",
    "#Collecting Continent Information\n",
    "confirmed_df.insert(2,\"continent\", [continents[country_to_continent_code(country)] for country in countries[:]])\n",
    "deaths_df.insert(2,\"continent\",  [continents[country_to_continent_code(country)] for country in countries[:]])\n",
    "covid19_df.insert(1,\"continent\",  [continents[country_to_continent_code(country)] for country in countries1[:]])\n",
    "table_df.insert(1,\"continent\",  [continents[country_to_continent_code(country)] for country in table_df[\"Country_Region\"].values])\n",
    "recovered_df.insert(2,\"continent\",  [continents[country_to_continent_code(country)] for country in countries[:]] )"
   ]
  },
  {
   "cell_type": "code",
   "execution_count": 7,
   "metadata": {
    "scrolled": true
   },
   "outputs": [],
   "source": [
    "table_df = table_df[table_df[\"continent\"] != \"Others\"]"
   ]
  },
  {
   "cell_type": "code",
   "execution_count": null,
   "metadata": {
    "code_folding": [
     0
    ],
    "scrolled": true
   },
   "outputs": [],
   "source": [
    "# Disputed Country or Cruise ships\n",
    "deaths_df[deaths_df[\"continent\" ]== 'Others']"
   ]
  },
  {
   "cell_type": "code",
   "execution_count": 9,
   "metadata": {},
   "outputs": [
    {
     "data": {
      "text/html": [
       "<div>\n",
       "<style scoped>\n",
       "    .dataframe tbody tr th:only-of-type {\n",
       "        vertical-align: middle;\n",
       "    }\n",
       "\n",
       "    .dataframe tbody tr th {\n",
       "        vertical-align: top;\n",
       "    }\n",
       "\n",
       "    .dataframe thead th {\n",
       "        text-align: right;\n",
       "    }\n",
       "</style>\n",
       "<table border=\"1\" class=\"dataframe\">\n",
       "  <thead>\n",
       "    <tr style=\"text-align: right;\">\n",
       "      <th></th>\n",
       "      <th>state</th>\n",
       "      <th>country</th>\n",
       "      <th>continent</th>\n",
       "      <th>Lat</th>\n",
       "      <th>Long</th>\n",
       "      <th>1/22/20</th>\n",
       "      <th>1/23/20</th>\n",
       "      <th>1/24/20</th>\n",
       "      <th>1/25/20</th>\n",
       "      <th>1/26/20</th>\n",
       "      <th>...</th>\n",
       "      <th>5/19/20</th>\n",
       "      <th>5/20/20</th>\n",
       "      <th>5/21/20</th>\n",
       "      <th>5/22/20</th>\n",
       "      <th>5/23/20</th>\n",
       "      <th>5/24/20</th>\n",
       "      <th>5/25/20</th>\n",
       "      <th>5/26/20</th>\n",
       "      <th>5/27/20</th>\n",
       "      <th>5/28/20</th>\n",
       "    </tr>\n",
       "  </thead>\n",
       "  <tbody>\n",
       "    <tr>\n",
       "      <th>0</th>\n",
       "      <td>NaN</td>\n",
       "      <td>Afghanistan</td>\n",
       "      <td>Asia</td>\n",
       "      <td>33.0000</td>\n",
       "      <td>65.0000</td>\n",
       "      <td>NaN</td>\n",
       "      <td>0.0</td>\n",
       "      <td>0.0</td>\n",
       "      <td>0.0</td>\n",
       "      <td>0.0</td>\n",
       "      <td>...</td>\n",
       "      <td>6625.0</td>\n",
       "      <td>7028.0</td>\n",
       "      <td>7545.0</td>\n",
       "      <td>8015.0</td>\n",
       "      <td>8742.0</td>\n",
       "      <td>9289.0</td>\n",
       "      <td>9857.0</td>\n",
       "      <td>10483.0</td>\n",
       "      <td>11091.0</td>\n",
       "      <td>11592.0</td>\n",
       "    </tr>\n",
       "    <tr>\n",
       "      <th>1</th>\n",
       "      <td>NaN</td>\n",
       "      <td>Albania</td>\n",
       "      <td>Europe</td>\n",
       "      <td>41.1533</td>\n",
       "      <td>20.1683</td>\n",
       "      <td>NaN</td>\n",
       "      <td>0.0</td>\n",
       "      <td>0.0</td>\n",
       "      <td>0.0</td>\n",
       "      <td>0.0</td>\n",
       "      <td>...</td>\n",
       "      <td>176.0</td>\n",
       "      <td>175.0</td>\n",
       "      <td>167.0</td>\n",
       "      <td>173.0</td>\n",
       "      <td>175.0</td>\n",
       "      <td>177.0</td>\n",
       "      <td>177.0</td>\n",
       "      <td>193.0</td>\n",
       "      <td>205.0</td>\n",
       "      <td>220.0</td>\n",
       "    </tr>\n",
       "    <tr>\n",
       "      <th>2</th>\n",
       "      <td>NaN</td>\n",
       "      <td>Algeria</td>\n",
       "      <td>Africa</td>\n",
       "      <td>28.0339</td>\n",
       "      <td>1.6596</td>\n",
       "      <td>NaN</td>\n",
       "      <td>0.0</td>\n",
       "      <td>0.0</td>\n",
       "      <td>0.0</td>\n",
       "      <td>0.0</td>\n",
       "      <td>...</td>\n",
       "      <td>3070.0</td>\n",
       "      <td>3006.0</td>\n",
       "      <td>3091.0</td>\n",
       "      <td>3080.0</td>\n",
       "      <td>3095.0</td>\n",
       "      <td>2922.0</td>\n",
       "      <td>3147.0</td>\n",
       "      <td>3162.0</td>\n",
       "      <td>3105.0</td>\n",
       "      <td>3090.0</td>\n",
       "    </tr>\n",
       "    <tr>\n",
       "      <th>3</th>\n",
       "      <td>NaN</td>\n",
       "      <td>Andorra</td>\n",
       "      <td>Europe</td>\n",
       "      <td>42.5063</td>\n",
       "      <td>1.5218</td>\n",
       "      <td>NaN</td>\n",
       "      <td>0.0</td>\n",
       "      <td>0.0</td>\n",
       "      <td>0.0</td>\n",
       "      <td>0.0</td>\n",
       "      <td>...</td>\n",
       "      <td>82.0</td>\n",
       "      <td>72.0</td>\n",
       "      <td>72.0</td>\n",
       "      <td>59.0</td>\n",
       "      <td>58.0</td>\n",
       "      <td>58.0</td>\n",
       "      <td>49.0</td>\n",
       "      <td>36.0</td>\n",
       "      <td>36.0</td>\n",
       "      <td>31.0</td>\n",
       "    </tr>\n",
       "    <tr>\n",
       "      <th>4</th>\n",
       "      <td>NaN</td>\n",
       "      <td>Angola</td>\n",
       "      <td>Africa</td>\n",
       "      <td>-11.2027</td>\n",
       "      <td>17.8739</td>\n",
       "      <td>NaN</td>\n",
       "      <td>0.0</td>\n",
       "      <td>0.0</td>\n",
       "      <td>0.0</td>\n",
       "      <td>0.0</td>\n",
       "      <td>...</td>\n",
       "      <td>32.0</td>\n",
       "      <td>32.0</td>\n",
       "      <td>38.0</td>\n",
       "      <td>40.0</td>\n",
       "      <td>39.0</td>\n",
       "      <td>47.0</td>\n",
       "      <td>48.0</td>\n",
       "      <td>48.0</td>\n",
       "      <td>49.0</td>\n",
       "      <td>52.0</td>\n",
       "    </tr>\n",
       "  </tbody>\n",
       "</table>\n",
       "<p>5 rows × 133 columns</p>\n",
       "</div>"
      ],
      "text/plain": [
       "  state      country continent      Lat     Long  1/22/20  1/23/20  1/24/20  \\\n",
       "0   NaN  Afghanistan      Asia  33.0000  65.0000      NaN      0.0      0.0   \n",
       "1   NaN      Albania    Europe  41.1533  20.1683      NaN      0.0      0.0   \n",
       "2   NaN      Algeria    Africa  28.0339   1.6596      NaN      0.0      0.0   \n",
       "3   NaN      Andorra    Europe  42.5063   1.5218      NaN      0.0      0.0   \n",
       "4   NaN       Angola    Africa -11.2027  17.8739      NaN      0.0      0.0   \n",
       "\n",
       "   1/25/20  1/26/20  ...  5/19/20  5/20/20  5/21/20  5/22/20  5/23/20  \\\n",
       "0      0.0      0.0  ...   6625.0   7028.0   7545.0   8015.0   8742.0   \n",
       "1      0.0      0.0  ...    176.0    175.0    167.0    173.0    175.0   \n",
       "2      0.0      0.0  ...   3070.0   3006.0   3091.0   3080.0   3095.0   \n",
       "3      0.0      0.0  ...     82.0     72.0     72.0     59.0     58.0   \n",
       "4      0.0      0.0  ...     32.0     32.0     38.0     40.0     39.0   \n",
       "\n",
       "   5/24/20  5/25/20  5/26/20  5/27/20  5/28/20  \n",
       "0   9289.0   9857.0  10483.0  11091.0  11592.0  \n",
       "1    177.0    177.0    193.0    205.0    220.0  \n",
       "2   2922.0   3147.0   3162.0   3105.0   3090.0  \n",
       "3     58.0     49.0     36.0     36.0     31.0  \n",
       "4     47.0     48.0     48.0     49.0     52.0  \n",
       "\n",
       "[5 rows x 133 columns]"
      ]
     },
     "execution_count": 9,
     "metadata": {},
     "output_type": "execute_result"
    }
   ],
   "source": [
    "active_df = confirmed_df.copy()\n",
    "active_df.iloc[:,5:] = active_df.iloc[:,5:] - recovered_df.iloc[:,5:] - deaths_df.iloc[:,5:]\n",
    "active_df.head(5)"
   ]
  },
  {
   "cell_type": "code",
   "execution_count": 10,
   "metadata": {},
   "outputs": [],
   "source": [
    "confirmed_df = confirmed_df.replace(np.nan, '', regex=True)\n",
    "deaths_df = deaths_df.replace(np.nan, '', regex=True)\n",
    "recovered_df = recovered_df.replace(np.nan, '', regex=True)\n",
    "active_df = active_df.replace(np.nan, '', regex=True)"
   ]
  },
  {
   "cell_type": "markdown",
   "metadata": {},
   "source": [
    "# General Analysis of Data"
   ]
  },
  {
   "cell_type": "code",
   "execution_count": 11,
   "metadata": {
    "code_folding": []
   },
   "outputs": [],
   "source": [
    "#used in below 4 cells\n",
    "countries_cases = covid19_df.copy().drop(['Lat','Long_','continent','Last_Update'],axis =1)\n",
    "countries_cases.index = countries_cases[\"country\"]\n",
    "countries_cases = countries_cases.drop(['country'],axis=1)\n",
    "\n",
    "continents_cases = covid19_df.copy().drop(['Lat','Long_','country','Last_Update'],axis =1)\n",
    "continents_cases = continents_cases.groupby([\"continent\"]).sum()\n",
    "\n",
    "countries_cases.fillna(0,inplace=True)\n",
    "continents_cases.fillna(0,inplace=True)"
   ]
  },
  {
   "cell_type": "markdown",
   "metadata": {},
   "source": [
    "## Reported Cases till Date\n",
    "Total number of **Confirmed Cases, Deaths Reported, Recoveries** and **Active cases**"
   ]
  },
  {
   "cell_type": "code",
   "execution_count": 14,
   "metadata": {
    "code_folding": [
     0
    ]
   },
   "outputs": [
    {
     "data": {
      "text/html": [
       "<div>\n",
       "<style scoped>\n",
       "    .dataframe tbody tr th:only-of-type {\n",
       "        vertical-align: middle;\n",
       "    }\n",
       "\n",
       "    .dataframe tbody tr th {\n",
       "        vertical-align: top;\n",
       "    }\n",
       "\n",
       "    .dataframe thead th {\n",
       "        text-align: right;\n",
       "    }\n",
       "</style>\n",
       "<table border=\"1\" class=\"dataframe\">\n",
       "  <thead>\n",
       "    <tr style=\"text-align: right;\">\n",
       "      <th></th>\n",
       "      <th>S. No.</th>\n",
       "      <th>Name of State / UT</th>\n",
       "      <th>Confirmed</th>\n",
       "      <th>Recovered</th>\n",
       "      <th>Deaths</th>\n",
       "    </tr>\n",
       "  </thead>\n",
       "  <tbody>\n",
       "    <tr>\n",
       "      <th>31</th>\n",
       "      <td>32</td>\n",
       "      <td>Tripura</td>\n",
       "      <td>242</td>\n",
       "      <td>167</td>\n",
       "      <td>0</td>\n",
       "    </tr>\n",
       "    <tr>\n",
       "      <th>32</th>\n",
       "      <td>33</td>\n",
       "      <td>Uttarakhand</td>\n",
       "      <td>500</td>\n",
       "      <td>79</td>\n",
       "      <td>4</td>\n",
       "    </tr>\n",
       "    <tr>\n",
       "      <th>33</th>\n",
       "      <td>34</td>\n",
       "      <td>Uttar Pradesh</td>\n",
       "      <td>7170</td>\n",
       "      <td>4215</td>\n",
       "      <td>197</td>\n",
       "    </tr>\n",
       "    <tr>\n",
       "      <th>34</th>\n",
       "      <td>35</td>\n",
       "      <td>West Bengal</td>\n",
       "      <td>4536</td>\n",
       "      <td>1668</td>\n",
       "      <td>295</td>\n",
       "    </tr>\n",
       "    <tr>\n",
       "      <th>35</th>\n",
       "      <td>NaN</td>\n",
       "      <td>Cases being reassigned to states</td>\n",
       "      <td>4673</td>\n",
       "      <td>NaN</td>\n",
       "      <td>NaN</td>\n",
       "    </tr>\n",
       "  </tbody>\n",
       "</table>\n",
       "</div>"
      ],
      "text/plain": [
       "   S. No.                Name of State / UT  Confirmed  Recovered  Deaths\n",
       "31     32                           Tripura        242        167       0\n",
       "32     33                       Uttarakhand        500         79       4\n",
       "33     34                     Uttar Pradesh       7170       4215     197\n",
       "34     35                       West Bengal       4536       1668     295\n",
       "35    NaN  Cases being reassigned to states       4673        NaN     NaN"
      ]
     },
     "execution_count": 14,
     "metadata": {},
     "output_type": "execute_result"
    }
   ],
   "source": [
    "# Backup\n",
    "\n",
    "temp_india = df_india.copy()\n",
    "temp_india.tail()"
   ]
  },
  {
   "cell_type": "code",
   "execution_count": 15,
   "metadata": {
    "scrolled": true
   },
   "outputs": [
    {
     "name": "stdout",
     "output_type": "stream",
     "text": [
      "\n",
      "\n",
      "\u001b[1mData is upto Date & Time 2020-05-30 06:11:47.567308\n",
      "\n",
      "\n",
      "\u001b[1m\u001b[4m\t\t\t World Total COVID-19 Cases \n"
     ]
    },
    {
     "data": {
      "text/html": [
       "<style  type=\"text/css\" >\n",
       "    #T_57eab424_a20e_11ea_98bd_34689523aaa9row0_col0 {\n",
       "            background-color:  #fc7f00;\n",
       "            color:  #000000;\n",
       "        }    #T_57eab424_a20e_11ea_98bd_34689523aaa9row0_col1 {\n",
       "            background-color:  #eafa63;\n",
       "            color:  #000000;\n",
       "        }    #T_57eab424_a20e_11ea_98bd_34689523aaa9row0_col2 {\n",
       "            background-color:  #ffcb08;\n",
       "            color:  #000000;\n",
       "        }    #T_57eab424_a20e_11ea_98bd_34689523aaa9row0_col3 {\n",
       "            background-color:  #ffbb00;\n",
       "            color:  #000000;\n",
       "        }    #T_57eab424_a20e_11ea_98bd_34689523aaa9row0_col4 {\n",
       "            background-color:  #e4ff78;\n",
       "            color:  #000000;\n",
       "        }    #T_57eab424_a20e_11ea_98bd_34689523aaa9row0_col5 {\n",
       "            background-color:  #e4ff7a;\n",
       "            color:  #000000;\n",
       "        }</style><table id=\"T_57eab424_a20e_11ea_98bd_34689523aaa9\" ><thead>    <tr>        <th class=\"blank level0\" ></th>        <th class=\"col_heading level0 col0\" >Confirmed</th>        <th class=\"col_heading level0 col1\" >Deaths</th>        <th class=\"col_heading level0 col2\" >Recovered</th>        <th class=\"col_heading level0 col3\" >Active</th>        <th class=\"col_heading level0 col4\" >Incident_Rate</th>        <th class=\"col_heading level0 col5\" >Mortality Rate (per 100)</th>    </tr></thead><tbody>\n",
       "                <tr>\n",
       "                        <th id=\"T_57eab424_a20e_11ea_98bd_34689523aaa9level0_row0\" class=\"row_heading level0 row0\" >Total</th>\n",
       "                        <td id=\"T_57eab424_a20e_11ea_98bd_34689523aaa9row0_col0\" class=\"data row0 col0\" >5919364</td>\n",
       "                        <td id=\"T_57eab424_a20e_11ea_98bd_34689523aaa9row0_col1\" class=\"data row0 col1\" >364459</td>\n",
       "                        <td id=\"T_57eab424_a20e_11ea_98bd_34689523aaa9row0_col2\" class=\"data row0 col2\" >2.49022e+06</td>\n",
       "                        <td id=\"T_57eab424_a20e_11ea_98bd_34689523aaa9row0_col3\" class=\"data row0 col3\" >3.06468e+06</td>\n",
       "                        <td id=\"T_57eab424_a20e_11ea_98bd_34689523aaa9row0_col4\" class=\"data row0 col4\" >23837.9</td>\n",
       "                        <td id=\"T_57eab424_a20e_11ea_98bd_34689523aaa9row0_col5\" class=\"data row0 col5\" >6.16</td>\n",
       "            </tr>\n",
       "    </tbody></table>"
      ],
      "text/plain": [
       "<pandas.io.formats.style.Styler at 0x1f572427108>"
      ]
     },
     "metadata": {},
     "output_type": "display_data"
    },
    {
     "name": "stdout",
     "output_type": "stream",
     "text": [
      "\u001b[1m\u001b[4m\n",
      "\t\t\t INDIA Total COVID-19 Cases \n"
     ]
    },
    {
     "data": {
      "text/html": [
       "<style  type=\"text/css\" >\n",
       "    #T_57f22d18_a20e_11ea_a7b0_34689523aaa9row0_col0 {\n",
       "            background-color:  #fc7f00;\n",
       "            color:  #000000;\n",
       "        }    #T_57f22d18_a20e_11ea_a7b0_34689523aaa9row0_col1 {\n",
       "            background-color:  #ffc908;\n",
       "            color:  #000000;\n",
       "        }    #T_57f22d18_a20e_11ea_a7b0_34689523aaa9row0_col2 {\n",
       "            background-color:  #e7fc6f;\n",
       "            color:  #000000;\n",
       "        }    #T_57f22d18_a20e_11ea_a7b0_34689523aaa9row0_col3 {\n",
       "            background-color:  #ffb800;\n",
       "            color:  #000000;\n",
       "        }    #T_57f22d18_a20e_11ea_a7b0_34689523aaa9row0_col4 {\n",
       "            background-color:  #e4ff7a;\n",
       "            color:  #000000;\n",
       "        }</style><table id=\"T_57f22d18_a20e_11ea_a7b0_34689523aaa9\" ><thead>    <tr>        <th class=\"blank level0\" ></th>        <th class=\"col_heading level0 col0\" >Confirmed</th>        <th class=\"col_heading level0 col1\" >Recovered</th>        <th class=\"col_heading level0 col2\" >Deaths</th>        <th class=\"col_heading level0 col3\" >Active</th>        <th class=\"col_heading level0 col4\" >Mortality Rate (per 100)</th>    </tr></thead><tbody>\n",
       "                <tr>\n",
       "                        <th id=\"T_57f22d18_a20e_11ea_a7b0_34689523aaa9level0_row0\" class=\"row_heading level0 row0\" >Total</th>\n",
       "                        <td id=\"T_57f22d18_a20e_11ea_a7b0_34689523aaa9row0_col0\" class=\"data row0 col0\" >165799</td>\n",
       "                        <td id=\"T_57f22d18_a20e_11ea_a7b0_34689523aaa9row0_col1\" class=\"data row0 col1\" >71106</td>\n",
       "                        <td id=\"T_57f22d18_a20e_11ea_a7b0_34689523aaa9row0_col2\" class=\"data row0 col2\" >4706</td>\n",
       "                        <td id=\"T_57f22d18_a20e_11ea_a7b0_34689523aaa9row0_col3\" class=\"data row0 col3\" >89987</td>\n",
       "                        <td id=\"T_57f22d18_a20e_11ea_a7b0_34689523aaa9row0_col4\" class=\"data row0 col4\" >2.84</td>\n",
       "            </tr>\n",
       "    </tbody></table>"
      ],
      "text/plain": [
       "<pandas.io.formats.style.Styler at 0x1f572426d48>"
      ]
     },
     "metadata": {},
     "output_type": "display_data"
    }
   ],
   "source": [
    "                            ########################################################\n",
    "                            #               Getting WORLD & INDIA data             #\n",
    "                            ########################################################\n",
    "\n",
    "print('\\n')\n",
    "time = datetime.now() \n",
    "print('\\033[1m' + 'Data is upto Date & Time', time)\n",
    "print('\\n')\n",
    "\n",
    "\n",
    "# World\n",
    "\n",
    "df_world = pd.DataFrame(pd.to_numeric(countries_cases.sum()),dtype=np.float64).transpose()\n",
    "df_world.index = ['Total']\n",
    "df_world[\"Mortality Rate (per 100)\"] = np.round(100*df_world[\"Deaths\"]/df_world[\"Confirmed\"],2)\n",
    "print('\\033[1m' + '\\033[4m'+ '\\t\\t\\t World Total COVID-19 Cases ')\n",
    "display(df_world.style.background_gradient(cmap='Wistia',axis=1).format(\"{:.0f}\",subset=[\"Confirmed\"]))\n",
    "\n",
    "# India\n",
    "\n",
    "temp_india = pd.DataFrame(temp_india.sum()).transpose()\n",
    "temp_india.index = ['Total']\n",
    "temp_india[\"Active\"] = np.round(temp_india[\"Confirmed\"]-(temp_india[\"Deaths\"]+temp_india[\"Recovered\"]))\n",
    "temp_india[\"Mortality Rate (per 100)\"] = np.round(100*temp_india[\"Deaths\"]/temp_india[\"Confirmed\"],2)\n",
    "print('\\033[1m' + '\\033[4m'+ '\\n\\t\\t\\t INDIA Total COVID-19 Cases ')\n",
    "display(temp_india.style.background_gradient(cmap='Wistia',axis=1))"
   ]
  },
  {
   "cell_type": "code",
   "execution_count": 32,
   "metadata": {
    "code_folding": []
   },
   "outputs": [
    {
     "data": {
      "application/vnd.plotly.v1+json": {
       "config": {
        "plotlyServerURL": "https://plot.ly"
       },
       "data": [
        {
         "domain": {
          "x": [
           0,
           0.2888888888888889
          ],
          "y": [
           0,
           1
          ]
         },
         "hole": 0.5,
         "hoverinfo": "label+percent+name",
         "labels": [
          "Active",
          "Recovered",
          "Deaths"
         ],
         "name": "World",
         "type": "pie",
         "values": [
          3064684,
          2490221,
          364459
         ]
        },
        {
         "domain": {
          "x": [
           0.35555555555555557,
           0.6444444444444445
          ],
          "y": [
           0,
           1
          ]
         },
         "hole": 0.5,
         "hoverinfo": "label+percent+name",
         "labels": [
          "Active",
          "Recovered",
          "Deaths"
         ],
         "name": "India",
         "type": "pie",
         "values": [
          89987,
          71106,
          4706
         ]
        },
        {
         "domain": {
          "x": [
           0.7111111111111111,
           1
          ],
          "y": [
           0,
           1
          ]
         },
         "hole": 0.5,
         "hoverinfo": "label+percent+name",
         "labels": [
          "Active",
          "Recovered",
          "Deaths",
          "Other Country"
         ],
         "name": "Indian to World",
         "type": "pie",
         "values": [
          2.9362570496664584,
          2.855409218699866,
          1.2912289173816534,
          97.19904030230275
         ]
        }
       ],
       "layout": {
        "annotations": [
         {
          "font": {
           "size": 22
          },
          "showarrow": false,
          "text": "Total COVID-19 Cases (Percentage wise)",
          "x": 0.5,
          "y": 1.1
         },
         {
          "font": {
           "size": 15
          },
          "showarrow": false,
          "text": "WORLD",
          "x": 0.1,
          "y": 0.5
         },
         {
          "font": {
           "size": 15
          },
          "showarrow": false,
          "text": "INDIA",
          "x": 0.5,
          "y": 0.5
         },
         {
          "font": {
           "size": 15
          },
          "showarrow": false,
          "text": "INDIAN Contribution",
          "x": 0.95,
          "y": 0.5
         }
        ],
        "template": {
         "data": {
          "bar": [
           {
            "error_x": {
             "color": "#2a3f5f"
            },
            "error_y": {
             "color": "#2a3f5f"
            },
            "marker": {
             "line": {
              "color": "#E5ECF6",
              "width": 0.5
             }
            },
            "type": "bar"
           }
          ],
          "barpolar": [
           {
            "marker": {
             "line": {
              "color": "#E5ECF6",
              "width": 0.5
             }
            },
            "type": "barpolar"
           }
          ],
          "carpet": [
           {
            "aaxis": {
             "endlinecolor": "#2a3f5f",
             "gridcolor": "white",
             "linecolor": "white",
             "minorgridcolor": "white",
             "startlinecolor": "#2a3f5f"
            },
            "baxis": {
             "endlinecolor": "#2a3f5f",
             "gridcolor": "white",
             "linecolor": "white",
             "minorgridcolor": "white",
             "startlinecolor": "#2a3f5f"
            },
            "type": "carpet"
           }
          ],
          "choropleth": [
           {
            "colorbar": {
             "outlinewidth": 0,
             "ticks": ""
            },
            "type": "choropleth"
           }
          ],
          "contour": [
           {
            "colorbar": {
             "outlinewidth": 0,
             "ticks": ""
            },
            "colorscale": [
             [
              0,
              "#0d0887"
             ],
             [
              0.1111111111111111,
              "#46039f"
             ],
             [
              0.2222222222222222,
              "#7201a8"
             ],
             [
              0.3333333333333333,
              "#9c179e"
             ],
             [
              0.4444444444444444,
              "#bd3786"
             ],
             [
              0.5555555555555556,
              "#d8576b"
             ],
             [
              0.6666666666666666,
              "#ed7953"
             ],
             [
              0.7777777777777778,
              "#fb9f3a"
             ],
             [
              0.8888888888888888,
              "#fdca26"
             ],
             [
              1,
              "#f0f921"
             ]
            ],
            "type": "contour"
           }
          ],
          "contourcarpet": [
           {
            "colorbar": {
             "outlinewidth": 0,
             "ticks": ""
            },
            "type": "contourcarpet"
           }
          ],
          "heatmap": [
           {
            "colorbar": {
             "outlinewidth": 0,
             "ticks": ""
            },
            "colorscale": [
             [
              0,
              "#0d0887"
             ],
             [
              0.1111111111111111,
              "#46039f"
             ],
             [
              0.2222222222222222,
              "#7201a8"
             ],
             [
              0.3333333333333333,
              "#9c179e"
             ],
             [
              0.4444444444444444,
              "#bd3786"
             ],
             [
              0.5555555555555556,
              "#d8576b"
             ],
             [
              0.6666666666666666,
              "#ed7953"
             ],
             [
              0.7777777777777778,
              "#fb9f3a"
             ],
             [
              0.8888888888888888,
              "#fdca26"
             ],
             [
              1,
              "#f0f921"
             ]
            ],
            "type": "heatmap"
           }
          ],
          "heatmapgl": [
           {
            "colorbar": {
             "outlinewidth": 0,
             "ticks": ""
            },
            "colorscale": [
             [
              0,
              "#0d0887"
             ],
             [
              0.1111111111111111,
              "#46039f"
             ],
             [
              0.2222222222222222,
              "#7201a8"
             ],
             [
              0.3333333333333333,
              "#9c179e"
             ],
             [
              0.4444444444444444,
              "#bd3786"
             ],
             [
              0.5555555555555556,
              "#d8576b"
             ],
             [
              0.6666666666666666,
              "#ed7953"
             ],
             [
              0.7777777777777778,
              "#fb9f3a"
             ],
             [
              0.8888888888888888,
              "#fdca26"
             ],
             [
              1,
              "#f0f921"
             ]
            ],
            "type": "heatmapgl"
           }
          ],
          "histogram": [
           {
            "marker": {
             "colorbar": {
              "outlinewidth": 0,
              "ticks": ""
             }
            },
            "type": "histogram"
           }
          ],
          "histogram2d": [
           {
            "colorbar": {
             "outlinewidth": 0,
             "ticks": ""
            },
            "colorscale": [
             [
              0,
              "#0d0887"
             ],
             [
              0.1111111111111111,
              "#46039f"
             ],
             [
              0.2222222222222222,
              "#7201a8"
             ],
             [
              0.3333333333333333,
              "#9c179e"
             ],
             [
              0.4444444444444444,
              "#bd3786"
             ],
             [
              0.5555555555555556,
              "#d8576b"
             ],
             [
              0.6666666666666666,
              "#ed7953"
             ],
             [
              0.7777777777777778,
              "#fb9f3a"
             ],
             [
              0.8888888888888888,
              "#fdca26"
             ],
             [
              1,
              "#f0f921"
             ]
            ],
            "type": "histogram2d"
           }
          ],
          "histogram2dcontour": [
           {
            "colorbar": {
             "outlinewidth": 0,
             "ticks": ""
            },
            "colorscale": [
             [
              0,
              "#0d0887"
             ],
             [
              0.1111111111111111,
              "#46039f"
             ],
             [
              0.2222222222222222,
              "#7201a8"
             ],
             [
              0.3333333333333333,
              "#9c179e"
             ],
             [
              0.4444444444444444,
              "#bd3786"
             ],
             [
              0.5555555555555556,
              "#d8576b"
             ],
             [
              0.6666666666666666,
              "#ed7953"
             ],
             [
              0.7777777777777778,
              "#fb9f3a"
             ],
             [
              0.8888888888888888,
              "#fdca26"
             ],
             [
              1,
              "#f0f921"
             ]
            ],
            "type": "histogram2dcontour"
           }
          ],
          "mesh3d": [
           {
            "colorbar": {
             "outlinewidth": 0,
             "ticks": ""
            },
            "type": "mesh3d"
           }
          ],
          "parcoords": [
           {
            "line": {
             "colorbar": {
              "outlinewidth": 0,
              "ticks": ""
             }
            },
            "type": "parcoords"
           }
          ],
          "pie": [
           {
            "automargin": true,
            "type": "pie"
           }
          ],
          "scatter": [
           {
            "marker": {
             "colorbar": {
              "outlinewidth": 0,
              "ticks": ""
             }
            },
            "type": "scatter"
           }
          ],
          "scatter3d": [
           {
            "line": {
             "colorbar": {
              "outlinewidth": 0,
              "ticks": ""
             }
            },
            "marker": {
             "colorbar": {
              "outlinewidth": 0,
              "ticks": ""
             }
            },
            "type": "scatter3d"
           }
          ],
          "scattercarpet": [
           {
            "marker": {
             "colorbar": {
              "outlinewidth": 0,
              "ticks": ""
             }
            },
            "type": "scattercarpet"
           }
          ],
          "scattergeo": [
           {
            "marker": {
             "colorbar": {
              "outlinewidth": 0,
              "ticks": ""
             }
            },
            "type": "scattergeo"
           }
          ],
          "scattergl": [
           {
            "marker": {
             "colorbar": {
              "outlinewidth": 0,
              "ticks": ""
             }
            },
            "type": "scattergl"
           }
          ],
          "scattermapbox": [
           {
            "marker": {
             "colorbar": {
              "outlinewidth": 0,
              "ticks": ""
             }
            },
            "type": "scattermapbox"
           }
          ],
          "scatterpolar": [
           {
            "marker": {
             "colorbar": {
              "outlinewidth": 0,
              "ticks": ""
             }
            },
            "type": "scatterpolar"
           }
          ],
          "scatterpolargl": [
           {
            "marker": {
             "colorbar": {
              "outlinewidth": 0,
              "ticks": ""
             }
            },
            "type": "scatterpolargl"
           }
          ],
          "scatterternary": [
           {
            "marker": {
             "colorbar": {
              "outlinewidth": 0,
              "ticks": ""
             }
            },
            "type": "scatterternary"
           }
          ],
          "surface": [
           {
            "colorbar": {
             "outlinewidth": 0,
             "ticks": ""
            },
            "colorscale": [
             [
              0,
              "#0d0887"
             ],
             [
              0.1111111111111111,
              "#46039f"
             ],
             [
              0.2222222222222222,
              "#7201a8"
             ],
             [
              0.3333333333333333,
              "#9c179e"
             ],
             [
              0.4444444444444444,
              "#bd3786"
             ],
             [
              0.5555555555555556,
              "#d8576b"
             ],
             [
              0.6666666666666666,
              "#ed7953"
             ],
             [
              0.7777777777777778,
              "#fb9f3a"
             ],
             [
              0.8888888888888888,
              "#fdca26"
             ],
             [
              1,
              "#f0f921"
             ]
            ],
            "type": "surface"
           }
          ],
          "table": [
           {
            "cells": {
             "fill": {
              "color": "#EBF0F8"
             },
             "line": {
              "color": "white"
             }
            },
            "header": {
             "fill": {
              "color": "#C8D4E3"
             },
             "line": {
              "color": "white"
             }
            },
            "type": "table"
           }
          ]
         },
         "layout": {
          "annotationdefaults": {
           "arrowcolor": "#2a3f5f",
           "arrowhead": 0,
           "arrowwidth": 1
          },
          "coloraxis": {
           "colorbar": {
            "outlinewidth": 0,
            "ticks": ""
           }
          },
          "colorscale": {
           "diverging": [
            [
             0,
             "#8e0152"
            ],
            [
             0.1,
             "#c51b7d"
            ],
            [
             0.2,
             "#de77ae"
            ],
            [
             0.3,
             "#f1b6da"
            ],
            [
             0.4,
             "#fde0ef"
            ],
            [
             0.5,
             "#f7f7f7"
            ],
            [
             0.6,
             "#e6f5d0"
            ],
            [
             0.7,
             "#b8e186"
            ],
            [
             0.8,
             "#7fbc41"
            ],
            [
             0.9,
             "#4d9221"
            ],
            [
             1,
             "#276419"
            ]
           ],
           "sequential": [
            [
             0,
             "#0d0887"
            ],
            [
             0.1111111111111111,
             "#46039f"
            ],
            [
             0.2222222222222222,
             "#7201a8"
            ],
            [
             0.3333333333333333,
             "#9c179e"
            ],
            [
             0.4444444444444444,
             "#bd3786"
            ],
            [
             0.5555555555555556,
             "#d8576b"
            ],
            [
             0.6666666666666666,
             "#ed7953"
            ],
            [
             0.7777777777777778,
             "#fb9f3a"
            ],
            [
             0.8888888888888888,
             "#fdca26"
            ],
            [
             1,
             "#f0f921"
            ]
           ],
           "sequentialminus": [
            [
             0,
             "#0d0887"
            ],
            [
             0.1111111111111111,
             "#46039f"
            ],
            [
             0.2222222222222222,
             "#7201a8"
            ],
            [
             0.3333333333333333,
             "#9c179e"
            ],
            [
             0.4444444444444444,
             "#bd3786"
            ],
            [
             0.5555555555555556,
             "#d8576b"
            ],
            [
             0.6666666666666666,
             "#ed7953"
            ],
            [
             0.7777777777777778,
             "#fb9f3a"
            ],
            [
             0.8888888888888888,
             "#fdca26"
            ],
            [
             1,
             "#f0f921"
            ]
           ]
          },
          "colorway": [
           "#636efa",
           "#EF553B",
           "#00cc96",
           "#ab63fa",
           "#FFA15A",
           "#19d3f3",
           "#FF6692",
           "#B6E880",
           "#FF97FF",
           "#FECB52"
          ],
          "font": {
           "color": "#2a3f5f"
          },
          "geo": {
           "bgcolor": "white",
           "lakecolor": "white",
           "landcolor": "#E5ECF6",
           "showlakes": true,
           "showland": true,
           "subunitcolor": "white"
          },
          "hoverlabel": {
           "align": "left"
          },
          "hovermode": "closest",
          "mapbox": {
           "style": "light"
          },
          "paper_bgcolor": "white",
          "plot_bgcolor": "#E5ECF6",
          "polar": {
           "angularaxis": {
            "gridcolor": "white",
            "linecolor": "white",
            "ticks": ""
           },
           "bgcolor": "#E5ECF6",
           "radialaxis": {
            "gridcolor": "white",
            "linecolor": "white",
            "ticks": ""
           }
          },
          "scene": {
           "xaxis": {
            "backgroundcolor": "#E5ECF6",
            "gridcolor": "white",
            "gridwidth": 2,
            "linecolor": "white",
            "showbackground": true,
            "ticks": "",
            "zerolinecolor": "white"
           },
           "yaxis": {
            "backgroundcolor": "#E5ECF6",
            "gridcolor": "white",
            "gridwidth": 2,
            "linecolor": "white",
            "showbackground": true,
            "ticks": "",
            "zerolinecolor": "white"
           },
           "zaxis": {
            "backgroundcolor": "#E5ECF6",
            "gridcolor": "white",
            "gridwidth": 2,
            "linecolor": "white",
            "showbackground": true,
            "ticks": "",
            "zerolinecolor": "white"
           }
          },
          "shapedefaults": {
           "line": {
            "color": "#2a3f5f"
           }
          },
          "ternary": {
           "aaxis": {
            "gridcolor": "white",
            "linecolor": "white",
            "ticks": ""
           },
           "baxis": {
            "gridcolor": "white",
            "linecolor": "white",
            "ticks": ""
           },
           "bgcolor": "#E5ECF6",
           "caxis": {
            "gridcolor": "white",
            "linecolor": "white",
            "ticks": ""
           }
          },
          "title": {
           "x": 0.05
          },
          "xaxis": {
           "automargin": true,
           "gridcolor": "white",
           "linecolor": "white",
           "ticks": "",
           "title": {
            "standoff": 15
           },
           "zerolinecolor": "white",
           "zerolinewidth": 2
          },
          "yaxis": {
           "automargin": true,
           "gridcolor": "white",
           "linecolor": "white",
           "ticks": "",
           "title": {
            "standoff": 15
           },
           "zerolinecolor": "white",
           "zerolinewidth": 2
          }
         }
        }
       }
      },
      "text/html": [
       "<div>\n",
       "        \n",
       "        \n",
       "            <div id=\"9dcc06d6-b91a-4802-83e2-a32de964992e\" class=\"plotly-graph-div\" style=\"height:525px; width:100%;\"></div>\n",
       "            <script type=\"text/javascript\">\n",
       "                require([\"plotly\"], function(Plotly) {\n",
       "                    window.PLOTLYENV=window.PLOTLYENV || {};\n",
       "                    \n",
       "                if (document.getElementById(\"9dcc06d6-b91a-4802-83e2-a32de964992e\")) {\n",
       "                    Plotly.newPlot(\n",
       "                        '9dcc06d6-b91a-4802-83e2-a32de964992e',\n",
       "                        [{\"domain\": {\"x\": [0.0, 0.2888888888888889], \"y\": [0.0, 1.0]}, \"hole\": 0.5, \"hoverinfo\": \"label+percent+name\", \"labels\": [\"Active\", \"Recovered\", \"Deaths\"], \"name\": \"World\", \"type\": \"pie\", \"values\": [3064684.0, 2490221.0, 364459.0]}, {\"domain\": {\"x\": [0.35555555555555557, 0.6444444444444445], \"y\": [0.0, 1.0]}, \"hole\": 0.5, \"hoverinfo\": \"label+percent+name\", \"labels\": [\"Active\", \"Recovered\", \"Deaths\"], \"name\": \"India\", \"type\": \"pie\", \"values\": [89987.0, 71106.0, 4706.0]}, {\"domain\": {\"x\": [0.7111111111111111, 1.0], \"y\": [0.0, 1.0]}, \"hole\": 0.5, \"hoverinfo\": \"label+percent+name\", \"labels\": [\"Active\", \"Recovered\", \"Deaths\", \"Other Country\"], \"name\": \"Indian to World\", \"type\": \"pie\", \"values\": [2.9362570496664584, 2.855409218699866, 1.2912289173816534, 97.19904030230275]}],\n",
       "                        {\"annotations\": [{\"font\": {\"size\": 22}, \"showarrow\": false, \"text\": \"Total COVID-19 Cases (Percentage wise)\", \"x\": 0.5, \"y\": 1.1}, {\"font\": {\"size\": 15}, \"showarrow\": false, \"text\": \"WORLD\", \"x\": 0.1, \"y\": 0.5}, {\"font\": {\"size\": 15}, \"showarrow\": false, \"text\": \"INDIA\", \"x\": 0.5, \"y\": 0.5}, {\"font\": {\"size\": 15}, \"showarrow\": false, \"text\": \"INDIAN Contribution\", \"x\": 0.95, \"y\": 0.5}], \"template\": {\"data\": {\"bar\": [{\"error_x\": {\"color\": \"#2a3f5f\"}, \"error_y\": {\"color\": \"#2a3f5f\"}, \"marker\": {\"line\": {\"color\": \"#E5ECF6\", \"width\": 0.5}}, \"type\": \"bar\"}], \"barpolar\": [{\"marker\": {\"line\": {\"color\": \"#E5ECF6\", \"width\": 0.5}}, \"type\": \"barpolar\"}], \"carpet\": [{\"aaxis\": {\"endlinecolor\": \"#2a3f5f\", \"gridcolor\": \"white\", \"linecolor\": \"white\", \"minorgridcolor\": \"white\", \"startlinecolor\": \"#2a3f5f\"}, \"baxis\": {\"endlinecolor\": \"#2a3f5f\", \"gridcolor\": \"white\", \"linecolor\": \"white\", \"minorgridcolor\": \"white\", \"startlinecolor\": \"#2a3f5f\"}, \"type\": \"carpet\"}], \"choropleth\": [{\"colorbar\": {\"outlinewidth\": 0, \"ticks\": \"\"}, \"type\": \"choropleth\"}], \"contour\": [{\"colorbar\": {\"outlinewidth\": 0, \"ticks\": \"\"}, \"colorscale\": [[0.0, \"#0d0887\"], [0.1111111111111111, \"#46039f\"], [0.2222222222222222, \"#7201a8\"], [0.3333333333333333, \"#9c179e\"], [0.4444444444444444, \"#bd3786\"], [0.5555555555555556, \"#d8576b\"], [0.6666666666666666, \"#ed7953\"], [0.7777777777777778, \"#fb9f3a\"], [0.8888888888888888, \"#fdca26\"], [1.0, \"#f0f921\"]], \"type\": \"contour\"}], \"contourcarpet\": [{\"colorbar\": {\"outlinewidth\": 0, \"ticks\": \"\"}, \"type\": \"contourcarpet\"}], \"heatmap\": [{\"colorbar\": {\"outlinewidth\": 0, \"ticks\": \"\"}, \"colorscale\": [[0.0, \"#0d0887\"], [0.1111111111111111, \"#46039f\"], [0.2222222222222222, \"#7201a8\"], [0.3333333333333333, \"#9c179e\"], [0.4444444444444444, \"#bd3786\"], [0.5555555555555556, \"#d8576b\"], [0.6666666666666666, \"#ed7953\"], [0.7777777777777778, \"#fb9f3a\"], [0.8888888888888888, \"#fdca26\"], [1.0, \"#f0f921\"]], \"type\": \"heatmap\"}], \"heatmapgl\": [{\"colorbar\": {\"outlinewidth\": 0, \"ticks\": \"\"}, \"colorscale\": [[0.0, \"#0d0887\"], [0.1111111111111111, \"#46039f\"], [0.2222222222222222, \"#7201a8\"], [0.3333333333333333, \"#9c179e\"], [0.4444444444444444, \"#bd3786\"], [0.5555555555555556, \"#d8576b\"], [0.6666666666666666, \"#ed7953\"], [0.7777777777777778, \"#fb9f3a\"], [0.8888888888888888, \"#fdca26\"], [1.0, \"#f0f921\"]], \"type\": \"heatmapgl\"}], \"histogram\": [{\"marker\": {\"colorbar\": {\"outlinewidth\": 0, \"ticks\": \"\"}}, \"type\": \"histogram\"}], \"histogram2d\": [{\"colorbar\": {\"outlinewidth\": 0, \"ticks\": \"\"}, \"colorscale\": [[0.0, \"#0d0887\"], [0.1111111111111111, \"#46039f\"], [0.2222222222222222, \"#7201a8\"], [0.3333333333333333, \"#9c179e\"], [0.4444444444444444, \"#bd3786\"], [0.5555555555555556, \"#d8576b\"], [0.6666666666666666, \"#ed7953\"], [0.7777777777777778, \"#fb9f3a\"], [0.8888888888888888, \"#fdca26\"], [1.0, \"#f0f921\"]], \"type\": \"histogram2d\"}], \"histogram2dcontour\": [{\"colorbar\": {\"outlinewidth\": 0, \"ticks\": \"\"}, \"colorscale\": [[0.0, \"#0d0887\"], [0.1111111111111111, \"#46039f\"], [0.2222222222222222, \"#7201a8\"], [0.3333333333333333, \"#9c179e\"], [0.4444444444444444, \"#bd3786\"], [0.5555555555555556, \"#d8576b\"], [0.6666666666666666, \"#ed7953\"], [0.7777777777777778, \"#fb9f3a\"], [0.8888888888888888, \"#fdca26\"], [1.0, \"#f0f921\"]], \"type\": \"histogram2dcontour\"}], \"mesh3d\": [{\"colorbar\": {\"outlinewidth\": 0, \"ticks\": \"\"}, \"type\": \"mesh3d\"}], \"parcoords\": [{\"line\": {\"colorbar\": {\"outlinewidth\": 0, \"ticks\": \"\"}}, \"type\": \"parcoords\"}], \"pie\": [{\"automargin\": true, \"type\": \"pie\"}], \"scatter\": [{\"marker\": {\"colorbar\": {\"outlinewidth\": 0, \"ticks\": \"\"}}, \"type\": \"scatter\"}], \"scatter3d\": [{\"line\": {\"colorbar\": {\"outlinewidth\": 0, \"ticks\": \"\"}}, \"marker\": {\"colorbar\": {\"outlinewidth\": 0, \"ticks\": \"\"}}, \"type\": \"scatter3d\"}], \"scattercarpet\": [{\"marker\": {\"colorbar\": {\"outlinewidth\": 0, \"ticks\": \"\"}}, \"type\": \"scattercarpet\"}], \"scattergeo\": [{\"marker\": {\"colorbar\": {\"outlinewidth\": 0, \"ticks\": \"\"}}, \"type\": \"scattergeo\"}], \"scattergl\": [{\"marker\": {\"colorbar\": {\"outlinewidth\": 0, \"ticks\": \"\"}}, \"type\": \"scattergl\"}], \"scattermapbox\": [{\"marker\": {\"colorbar\": {\"outlinewidth\": 0, \"ticks\": \"\"}}, \"type\": \"scattermapbox\"}], \"scatterpolar\": [{\"marker\": {\"colorbar\": {\"outlinewidth\": 0, \"ticks\": \"\"}}, \"type\": \"scatterpolar\"}], \"scatterpolargl\": [{\"marker\": {\"colorbar\": {\"outlinewidth\": 0, \"ticks\": \"\"}}, \"type\": \"scatterpolargl\"}], \"scatterternary\": [{\"marker\": {\"colorbar\": {\"outlinewidth\": 0, \"ticks\": \"\"}}, \"type\": \"scatterternary\"}], \"surface\": [{\"colorbar\": {\"outlinewidth\": 0, \"ticks\": \"\"}, \"colorscale\": [[0.0, \"#0d0887\"], [0.1111111111111111, \"#46039f\"], [0.2222222222222222, \"#7201a8\"], [0.3333333333333333, \"#9c179e\"], [0.4444444444444444, \"#bd3786\"], [0.5555555555555556, \"#d8576b\"], [0.6666666666666666, \"#ed7953\"], [0.7777777777777778, \"#fb9f3a\"], [0.8888888888888888, \"#fdca26\"], [1.0, \"#f0f921\"]], \"type\": \"surface\"}], \"table\": [{\"cells\": {\"fill\": {\"color\": \"#EBF0F8\"}, \"line\": {\"color\": \"white\"}}, \"header\": {\"fill\": {\"color\": \"#C8D4E3\"}, \"line\": {\"color\": \"white\"}}, \"type\": \"table\"}]}, \"layout\": {\"annotationdefaults\": {\"arrowcolor\": \"#2a3f5f\", \"arrowhead\": 0, \"arrowwidth\": 1}, \"coloraxis\": {\"colorbar\": {\"outlinewidth\": 0, \"ticks\": \"\"}}, \"colorscale\": {\"diverging\": [[0, \"#8e0152\"], [0.1, \"#c51b7d\"], [0.2, \"#de77ae\"], [0.3, \"#f1b6da\"], [0.4, \"#fde0ef\"], [0.5, \"#f7f7f7\"], [0.6, \"#e6f5d0\"], [0.7, \"#b8e186\"], [0.8, \"#7fbc41\"], [0.9, \"#4d9221\"], [1, \"#276419\"]], \"sequential\": [[0.0, \"#0d0887\"], [0.1111111111111111, \"#46039f\"], [0.2222222222222222, \"#7201a8\"], [0.3333333333333333, \"#9c179e\"], [0.4444444444444444, \"#bd3786\"], [0.5555555555555556, \"#d8576b\"], [0.6666666666666666, \"#ed7953\"], [0.7777777777777778, \"#fb9f3a\"], [0.8888888888888888, \"#fdca26\"], [1.0, \"#f0f921\"]], \"sequentialminus\": [[0.0, \"#0d0887\"], [0.1111111111111111, \"#46039f\"], [0.2222222222222222, \"#7201a8\"], [0.3333333333333333, \"#9c179e\"], [0.4444444444444444, \"#bd3786\"], [0.5555555555555556, \"#d8576b\"], [0.6666666666666666, \"#ed7953\"], [0.7777777777777778, \"#fb9f3a\"], [0.8888888888888888, \"#fdca26\"], [1.0, \"#f0f921\"]]}, \"colorway\": [\"#636efa\", \"#EF553B\", \"#00cc96\", \"#ab63fa\", \"#FFA15A\", \"#19d3f3\", \"#FF6692\", \"#B6E880\", \"#FF97FF\", \"#FECB52\"], \"font\": {\"color\": \"#2a3f5f\"}, \"geo\": {\"bgcolor\": \"white\", \"lakecolor\": \"white\", \"landcolor\": \"#E5ECF6\", \"showlakes\": true, \"showland\": true, \"subunitcolor\": \"white\"}, \"hoverlabel\": {\"align\": \"left\"}, \"hovermode\": \"closest\", \"mapbox\": {\"style\": \"light\"}, \"paper_bgcolor\": \"white\", \"plot_bgcolor\": \"#E5ECF6\", \"polar\": {\"angularaxis\": {\"gridcolor\": \"white\", \"linecolor\": \"white\", \"ticks\": \"\"}, \"bgcolor\": \"#E5ECF6\", \"radialaxis\": {\"gridcolor\": \"white\", \"linecolor\": \"white\", \"ticks\": \"\"}}, \"scene\": {\"xaxis\": {\"backgroundcolor\": \"#E5ECF6\", \"gridcolor\": \"white\", \"gridwidth\": 2, \"linecolor\": \"white\", \"showbackground\": true, \"ticks\": \"\", \"zerolinecolor\": \"white\"}, \"yaxis\": {\"backgroundcolor\": \"#E5ECF6\", \"gridcolor\": \"white\", \"gridwidth\": 2, \"linecolor\": \"white\", \"showbackground\": true, \"ticks\": \"\", \"zerolinecolor\": \"white\"}, \"zaxis\": {\"backgroundcolor\": \"#E5ECF6\", \"gridcolor\": \"white\", \"gridwidth\": 2, \"linecolor\": \"white\", \"showbackground\": true, \"ticks\": \"\", \"zerolinecolor\": \"white\"}}, \"shapedefaults\": {\"line\": {\"color\": \"#2a3f5f\"}}, \"ternary\": {\"aaxis\": {\"gridcolor\": \"white\", \"linecolor\": \"white\", \"ticks\": \"\"}, \"baxis\": {\"gridcolor\": \"white\", \"linecolor\": \"white\", \"ticks\": \"\"}, \"bgcolor\": \"#E5ECF6\", \"caxis\": {\"gridcolor\": \"white\", \"linecolor\": \"white\", \"ticks\": \"\"}}, \"title\": {\"x\": 0.05}, \"xaxis\": {\"automargin\": true, \"gridcolor\": \"white\", \"linecolor\": \"white\", \"ticks\": \"\", \"title\": {\"standoff\": 15}, \"zerolinecolor\": \"white\", \"zerolinewidth\": 2}, \"yaxis\": {\"automargin\": true, \"gridcolor\": \"white\", \"linecolor\": \"white\", \"ticks\": \"\", \"title\": {\"standoff\": 15}, \"zerolinecolor\": \"white\", \"zerolinewidth\": 2}}}},\n",
       "                        {\"responsive\": true}\n",
       "                    ).then(function(){\n",
       "                            \n",
       "var gd = document.getElementById('9dcc06d6-b91a-4802-83e2-a32de964992e');\n",
       "var x = new MutationObserver(function (mutations, observer) {{\n",
       "        var display = window.getComputedStyle(gd).display;\n",
       "        if (!display || display === 'none') {{\n",
       "            console.log([gd, 'removed!']);\n",
       "            Plotly.purge(gd);\n",
       "            observer.disconnect();\n",
       "        }}\n",
       "}});\n",
       "\n",
       "// Listen for the removal of the full notebook cells\n",
       "var notebookContainer = gd.closest('#notebook-container');\n",
       "if (notebookContainer) {{\n",
       "    x.observe(notebookContainer, {childList: true});\n",
       "}}\n",
       "\n",
       "// Listen for the clearing of the current output cell\n",
       "var outputEl = gd.closest('.output');\n",
       "if (outputEl) {{\n",
       "    x.observe(outputEl, {childList: true});\n",
       "}}\n",
       "\n",
       "                        })\n",
       "                };\n",
       "                });\n",
       "            </script>\n",
       "        </div>"
      ]
     },
     "metadata": {},
     "output_type": "display_data"
    }
   ],
   "source": [
    "# Viz. Total COVID-19 Cases (Percentage wise)\n",
    "\n",
    "import plotly.graph_objects as go\n",
    "from plotly.subplots import make_subplots\n",
    "\n",
    "labels = ['Active', 'Recovered', 'Deaths']\n",
    "labels1 = ['Active', 'Recovered', 'Deaths', 'Other Country']\n",
    "world = [df_world[\"Active\"].sum(), df_world[\"Recovered\"].sum(), df_world[\"Deaths\"].sum()]\n",
    "india = [temp_india[\"Active\"].sum(), temp_india[\"Recovered\"].sum(), temp_india[\"Deaths\"].sum()]\n",
    "india_to_world =[(temp_india[\"Active\"].sum()/df_world[\"Active\"].sum())*100,\n",
    "                 (temp_india[\"Recovered\"].sum()/df_world[\"Recovered\"].sum())*100,\n",
    "                 (temp_india[\"Deaths\"].sum()/df_world[\"Deaths\"].sum())*100,\n",
    "                (100-(temp_india[\"Confirmed\"].sum()/df_world[\"Confirmed\"].sum())*100)]\n",
    "\n",
    "# Create subplots: use 'domain' type for Pie subplot\n",
    "fig = make_subplots(rows=1, cols=3, specs=[[{'type':'domain'}, {'type':'domain'}, {'type':'domain'}]])\n",
    "fig.add_trace(go.Pie(labels=labels, values=world, name=\"World\"), 1, 1)\n",
    "fig.add_trace(go.Pie(labels=labels, values=india, name=\"India\"), 1, 2)\n",
    "fig.add_trace(go.Pie(labels=labels1, values=india_to_world, name=\"Indian to World\"), 1, 3)\n",
    "\n",
    "# Use `hole` to create a donut-like pie chart\n",
    "fig.update_traces(hole=0.5, hoverinfo=\"label+percent+name\")\n",
    "\n",
    "fig.update_layout(\n",
    "    \n",
    "    # Add annotations in the center of the donut pies.\n",
    "    annotations=[\n",
    "                 dict(text='Total COVID-19 Cases (Percentage wise)', x=0.5, y=1.1, font_size=22, showarrow=False),\n",
    "                 dict(text='WORLD', x=0.1, y=0.5, font_size=15, showarrow=False),\n",
    "                 dict(text='INDIA', x=0.5, y=0.5, font_size=15, showarrow=False),\n",
    "                 dict(text='INDIAN Contribution', x=0.95, y=0.5, font_size=15, showarrow=False)\n",
    "                ]\n",
    "                )\n",
    "fig.show()"
   ]
  },
  {
   "cell_type": "code",
   "execution_count": 60,
   "metadata": {
    "code_folding": []
   },
   "outputs": [
    {
     "name": "stdout",
     "output_type": "stream",
     "text": [
      "\u001b[1m\u001b[4m\n",
      "\n",
      "\t\t\t\t\t Confirmed COVID-19 Cases in Continents \n"
     ]
    },
    {
     "data": {
      "application/vnd.plotly.v1+json": {
       "config": {
        "plotlyServerURL": "https://plot.ly"
       },
       "data": [
        {
         "labels": [
          "World",
          "Africa",
          "Asia",
          "Australia",
          "Europe",
          "North America",
          "South America",
          "Other",
          "India",
          "Other Asian Country"
         ],
         "parents": [
          "",
          "World",
          "World",
          "World",
          "World",
          "World",
          "World",
          "World",
          "Asia",
          "Asia"
         ],
         "type": "sunburst",
         "values": [
          5919364,
          135366,
          1079710,
          8703,
          1940333,
          1964202,
          788583,
          2467,
          165799,
          913911
         ]
        }
       ],
       "layout": {
        "margin": {
         "b": 0,
         "l": 0,
         "r": 0,
         "t": 0
        },
        "template": {
         "data": {
          "bar": [
           {
            "error_x": {
             "color": "#2a3f5f"
            },
            "error_y": {
             "color": "#2a3f5f"
            },
            "marker": {
             "line": {
              "color": "#E5ECF6",
              "width": 0.5
             }
            },
            "type": "bar"
           }
          ],
          "barpolar": [
           {
            "marker": {
             "line": {
              "color": "#E5ECF6",
              "width": 0.5
             }
            },
            "type": "barpolar"
           }
          ],
          "carpet": [
           {
            "aaxis": {
             "endlinecolor": "#2a3f5f",
             "gridcolor": "white",
             "linecolor": "white",
             "minorgridcolor": "white",
             "startlinecolor": "#2a3f5f"
            },
            "baxis": {
             "endlinecolor": "#2a3f5f",
             "gridcolor": "white",
             "linecolor": "white",
             "minorgridcolor": "white",
             "startlinecolor": "#2a3f5f"
            },
            "type": "carpet"
           }
          ],
          "choropleth": [
           {
            "colorbar": {
             "outlinewidth": 0,
             "ticks": ""
            },
            "type": "choropleth"
           }
          ],
          "contour": [
           {
            "colorbar": {
             "outlinewidth": 0,
             "ticks": ""
            },
            "colorscale": [
             [
              0,
              "#0d0887"
             ],
             [
              0.1111111111111111,
              "#46039f"
             ],
             [
              0.2222222222222222,
              "#7201a8"
             ],
             [
              0.3333333333333333,
              "#9c179e"
             ],
             [
              0.4444444444444444,
              "#bd3786"
             ],
             [
              0.5555555555555556,
              "#d8576b"
             ],
             [
              0.6666666666666666,
              "#ed7953"
             ],
             [
              0.7777777777777778,
              "#fb9f3a"
             ],
             [
              0.8888888888888888,
              "#fdca26"
             ],
             [
              1,
              "#f0f921"
             ]
            ],
            "type": "contour"
           }
          ],
          "contourcarpet": [
           {
            "colorbar": {
             "outlinewidth": 0,
             "ticks": ""
            },
            "type": "contourcarpet"
           }
          ],
          "heatmap": [
           {
            "colorbar": {
             "outlinewidth": 0,
             "ticks": ""
            },
            "colorscale": [
             [
              0,
              "#0d0887"
             ],
             [
              0.1111111111111111,
              "#46039f"
             ],
             [
              0.2222222222222222,
              "#7201a8"
             ],
             [
              0.3333333333333333,
              "#9c179e"
             ],
             [
              0.4444444444444444,
              "#bd3786"
             ],
             [
              0.5555555555555556,
              "#d8576b"
             ],
             [
              0.6666666666666666,
              "#ed7953"
             ],
             [
              0.7777777777777778,
              "#fb9f3a"
             ],
             [
              0.8888888888888888,
              "#fdca26"
             ],
             [
              1,
              "#f0f921"
             ]
            ],
            "type": "heatmap"
           }
          ],
          "heatmapgl": [
           {
            "colorbar": {
             "outlinewidth": 0,
             "ticks": ""
            },
            "colorscale": [
             [
              0,
              "#0d0887"
             ],
             [
              0.1111111111111111,
              "#46039f"
             ],
             [
              0.2222222222222222,
              "#7201a8"
             ],
             [
              0.3333333333333333,
              "#9c179e"
             ],
             [
              0.4444444444444444,
              "#bd3786"
             ],
             [
              0.5555555555555556,
              "#d8576b"
             ],
             [
              0.6666666666666666,
              "#ed7953"
             ],
             [
              0.7777777777777778,
              "#fb9f3a"
             ],
             [
              0.8888888888888888,
              "#fdca26"
             ],
             [
              1,
              "#f0f921"
             ]
            ],
            "type": "heatmapgl"
           }
          ],
          "histogram": [
           {
            "marker": {
             "colorbar": {
              "outlinewidth": 0,
              "ticks": ""
             }
            },
            "type": "histogram"
           }
          ],
          "histogram2d": [
           {
            "colorbar": {
             "outlinewidth": 0,
             "ticks": ""
            },
            "colorscale": [
             [
              0,
              "#0d0887"
             ],
             [
              0.1111111111111111,
              "#46039f"
             ],
             [
              0.2222222222222222,
              "#7201a8"
             ],
             [
              0.3333333333333333,
              "#9c179e"
             ],
             [
              0.4444444444444444,
              "#bd3786"
             ],
             [
              0.5555555555555556,
              "#d8576b"
             ],
             [
              0.6666666666666666,
              "#ed7953"
             ],
             [
              0.7777777777777778,
              "#fb9f3a"
             ],
             [
              0.8888888888888888,
              "#fdca26"
             ],
             [
              1,
              "#f0f921"
             ]
            ],
            "type": "histogram2d"
           }
          ],
          "histogram2dcontour": [
           {
            "colorbar": {
             "outlinewidth": 0,
             "ticks": ""
            },
            "colorscale": [
             [
              0,
              "#0d0887"
             ],
             [
              0.1111111111111111,
              "#46039f"
             ],
             [
              0.2222222222222222,
              "#7201a8"
             ],
             [
              0.3333333333333333,
              "#9c179e"
             ],
             [
              0.4444444444444444,
              "#bd3786"
             ],
             [
              0.5555555555555556,
              "#d8576b"
             ],
             [
              0.6666666666666666,
              "#ed7953"
             ],
             [
              0.7777777777777778,
              "#fb9f3a"
             ],
             [
              0.8888888888888888,
              "#fdca26"
             ],
             [
              1,
              "#f0f921"
             ]
            ],
            "type": "histogram2dcontour"
           }
          ],
          "mesh3d": [
           {
            "colorbar": {
             "outlinewidth": 0,
             "ticks": ""
            },
            "type": "mesh3d"
           }
          ],
          "parcoords": [
           {
            "line": {
             "colorbar": {
              "outlinewidth": 0,
              "ticks": ""
             }
            },
            "type": "parcoords"
           }
          ],
          "pie": [
           {
            "automargin": true,
            "type": "pie"
           }
          ],
          "scatter": [
           {
            "marker": {
             "colorbar": {
              "outlinewidth": 0,
              "ticks": ""
             }
            },
            "type": "scatter"
           }
          ],
          "scatter3d": [
           {
            "line": {
             "colorbar": {
              "outlinewidth": 0,
              "ticks": ""
             }
            },
            "marker": {
             "colorbar": {
              "outlinewidth": 0,
              "ticks": ""
             }
            },
            "type": "scatter3d"
           }
          ],
          "scattercarpet": [
           {
            "marker": {
             "colorbar": {
              "outlinewidth": 0,
              "ticks": ""
             }
            },
            "type": "scattercarpet"
           }
          ],
          "scattergeo": [
           {
            "marker": {
             "colorbar": {
              "outlinewidth": 0,
              "ticks": ""
             }
            },
            "type": "scattergeo"
           }
          ],
          "scattergl": [
           {
            "marker": {
             "colorbar": {
              "outlinewidth": 0,
              "ticks": ""
             }
            },
            "type": "scattergl"
           }
          ],
          "scattermapbox": [
           {
            "marker": {
             "colorbar": {
              "outlinewidth": 0,
              "ticks": ""
             }
            },
            "type": "scattermapbox"
           }
          ],
          "scatterpolar": [
           {
            "marker": {
             "colorbar": {
              "outlinewidth": 0,
              "ticks": ""
             }
            },
            "type": "scatterpolar"
           }
          ],
          "scatterpolargl": [
           {
            "marker": {
             "colorbar": {
              "outlinewidth": 0,
              "ticks": ""
             }
            },
            "type": "scatterpolargl"
           }
          ],
          "scatterternary": [
           {
            "marker": {
             "colorbar": {
              "outlinewidth": 0,
              "ticks": ""
             }
            },
            "type": "scatterternary"
           }
          ],
          "surface": [
           {
            "colorbar": {
             "outlinewidth": 0,
             "ticks": ""
            },
            "colorscale": [
             [
              0,
              "#0d0887"
             ],
             [
              0.1111111111111111,
              "#46039f"
             ],
             [
              0.2222222222222222,
              "#7201a8"
             ],
             [
              0.3333333333333333,
              "#9c179e"
             ],
             [
              0.4444444444444444,
              "#bd3786"
             ],
             [
              0.5555555555555556,
              "#d8576b"
             ],
             [
              0.6666666666666666,
              "#ed7953"
             ],
             [
              0.7777777777777778,
              "#fb9f3a"
             ],
             [
              0.8888888888888888,
              "#fdca26"
             ],
             [
              1,
              "#f0f921"
             ]
            ],
            "type": "surface"
           }
          ],
          "table": [
           {
            "cells": {
             "fill": {
              "color": "#EBF0F8"
             },
             "line": {
              "color": "white"
             }
            },
            "header": {
             "fill": {
              "color": "#C8D4E3"
             },
             "line": {
              "color": "white"
             }
            },
            "type": "table"
           }
          ]
         },
         "layout": {
          "annotationdefaults": {
           "arrowcolor": "#2a3f5f",
           "arrowhead": 0,
           "arrowwidth": 1
          },
          "coloraxis": {
           "colorbar": {
            "outlinewidth": 0,
            "ticks": ""
           }
          },
          "colorscale": {
           "diverging": [
            [
             0,
             "#8e0152"
            ],
            [
             0.1,
             "#c51b7d"
            ],
            [
             0.2,
             "#de77ae"
            ],
            [
             0.3,
             "#f1b6da"
            ],
            [
             0.4,
             "#fde0ef"
            ],
            [
             0.5,
             "#f7f7f7"
            ],
            [
             0.6,
             "#e6f5d0"
            ],
            [
             0.7,
             "#b8e186"
            ],
            [
             0.8,
             "#7fbc41"
            ],
            [
             0.9,
             "#4d9221"
            ],
            [
             1,
             "#276419"
            ]
           ],
           "sequential": [
            [
             0,
             "#0d0887"
            ],
            [
             0.1111111111111111,
             "#46039f"
            ],
            [
             0.2222222222222222,
             "#7201a8"
            ],
            [
             0.3333333333333333,
             "#9c179e"
            ],
            [
             0.4444444444444444,
             "#bd3786"
            ],
            [
             0.5555555555555556,
             "#d8576b"
            ],
            [
             0.6666666666666666,
             "#ed7953"
            ],
            [
             0.7777777777777778,
             "#fb9f3a"
            ],
            [
             0.8888888888888888,
             "#fdca26"
            ],
            [
             1,
             "#f0f921"
            ]
           ],
           "sequentialminus": [
            [
             0,
             "#0d0887"
            ],
            [
             0.1111111111111111,
             "#46039f"
            ],
            [
             0.2222222222222222,
             "#7201a8"
            ],
            [
             0.3333333333333333,
             "#9c179e"
            ],
            [
             0.4444444444444444,
             "#bd3786"
            ],
            [
             0.5555555555555556,
             "#d8576b"
            ],
            [
             0.6666666666666666,
             "#ed7953"
            ],
            [
             0.7777777777777778,
             "#fb9f3a"
            ],
            [
             0.8888888888888888,
             "#fdca26"
            ],
            [
             1,
             "#f0f921"
            ]
           ]
          },
          "colorway": [
           "#636efa",
           "#EF553B",
           "#00cc96",
           "#ab63fa",
           "#FFA15A",
           "#19d3f3",
           "#FF6692",
           "#B6E880",
           "#FF97FF",
           "#FECB52"
          ],
          "font": {
           "color": "#2a3f5f"
          },
          "geo": {
           "bgcolor": "white",
           "lakecolor": "white",
           "landcolor": "#E5ECF6",
           "showlakes": true,
           "showland": true,
           "subunitcolor": "white"
          },
          "hoverlabel": {
           "align": "left"
          },
          "hovermode": "closest",
          "mapbox": {
           "style": "light"
          },
          "paper_bgcolor": "white",
          "plot_bgcolor": "#E5ECF6",
          "polar": {
           "angularaxis": {
            "gridcolor": "white",
            "linecolor": "white",
            "ticks": ""
           },
           "bgcolor": "#E5ECF6",
           "radialaxis": {
            "gridcolor": "white",
            "linecolor": "white",
            "ticks": ""
           }
          },
          "scene": {
           "xaxis": {
            "backgroundcolor": "#E5ECF6",
            "gridcolor": "white",
            "gridwidth": 2,
            "linecolor": "white",
            "showbackground": true,
            "ticks": "",
            "zerolinecolor": "white"
           },
           "yaxis": {
            "backgroundcolor": "#E5ECF6",
            "gridcolor": "white",
            "gridwidth": 2,
            "linecolor": "white",
            "showbackground": true,
            "ticks": "",
            "zerolinecolor": "white"
           },
           "zaxis": {
            "backgroundcolor": "#E5ECF6",
            "gridcolor": "white",
            "gridwidth": 2,
            "linecolor": "white",
            "showbackground": true,
            "ticks": "",
            "zerolinecolor": "white"
           }
          },
          "shapedefaults": {
           "line": {
            "color": "#2a3f5f"
           }
          },
          "ternary": {
           "aaxis": {
            "gridcolor": "white",
            "linecolor": "white",
            "ticks": ""
           },
           "baxis": {
            "gridcolor": "white",
            "linecolor": "white",
            "ticks": ""
           },
           "bgcolor": "#E5ECF6",
           "caxis": {
            "gridcolor": "white",
            "linecolor": "white",
            "ticks": ""
           }
          },
          "title": {
           "x": 0.05
          },
          "xaxis": {
           "automargin": true,
           "gridcolor": "white",
           "linecolor": "white",
           "ticks": "",
           "title": {
            "standoff": 15
           },
           "zerolinecolor": "white",
           "zerolinewidth": 2
          },
          "yaxis": {
           "automargin": true,
           "gridcolor": "white",
           "linecolor": "white",
           "ticks": "",
           "title": {
            "standoff": 15
           },
           "zerolinecolor": "white",
           "zerolinewidth": 2
          }
         }
        }
       }
      },
      "text/html": [
       "<div>\n",
       "        \n",
       "        \n",
       "            <div id=\"2679ecf2-5631-4e38-82ee-ce307cd20607\" class=\"plotly-graph-div\" style=\"height:525px; width:100%;\"></div>\n",
       "            <script type=\"text/javascript\">\n",
       "                require([\"plotly\"], function(Plotly) {\n",
       "                    window.PLOTLYENV=window.PLOTLYENV || {};\n",
       "                    \n",
       "                if (document.getElementById(\"2679ecf2-5631-4e38-82ee-ce307cd20607\")) {\n",
       "                    Plotly.newPlot(\n",
       "                        '2679ecf2-5631-4e38-82ee-ce307cd20607',\n",
       "                        [{\"labels\": [\"World\", \"Africa\", \"Asia\", \"Australia\", \"Europe\", \"North America\", \"South America\", \"Other\", \"India\", \"Other Asian Country\"], \"parents\": [\"\", \"World\", \"World\", \"World\", \"World\", \"World\", \"World\", \"World\", \"Asia\", \"Asia\"], \"type\": \"sunburst\", \"values\": [5919364.0, 135366.0, 1079710.0, 8703.0, 1940333.0, 1964202.0, 788583.0, 2467.0, 165799.0, 913911.0]}],\n",
       "                        {\"margin\": {\"b\": 0, \"l\": 0, \"r\": 0, \"t\": 0}, \"template\": {\"data\": {\"bar\": [{\"error_x\": {\"color\": \"#2a3f5f\"}, \"error_y\": {\"color\": \"#2a3f5f\"}, \"marker\": {\"line\": {\"color\": \"#E5ECF6\", \"width\": 0.5}}, \"type\": \"bar\"}], \"barpolar\": [{\"marker\": {\"line\": {\"color\": \"#E5ECF6\", \"width\": 0.5}}, \"type\": \"barpolar\"}], \"carpet\": [{\"aaxis\": {\"endlinecolor\": \"#2a3f5f\", \"gridcolor\": \"white\", \"linecolor\": \"white\", \"minorgridcolor\": \"white\", \"startlinecolor\": \"#2a3f5f\"}, \"baxis\": {\"endlinecolor\": \"#2a3f5f\", \"gridcolor\": \"white\", \"linecolor\": \"white\", \"minorgridcolor\": \"white\", \"startlinecolor\": \"#2a3f5f\"}, \"type\": \"carpet\"}], \"choropleth\": [{\"colorbar\": {\"outlinewidth\": 0, \"ticks\": \"\"}, \"type\": \"choropleth\"}], \"contour\": [{\"colorbar\": {\"outlinewidth\": 0, \"ticks\": \"\"}, \"colorscale\": [[0.0, \"#0d0887\"], [0.1111111111111111, \"#46039f\"], [0.2222222222222222, \"#7201a8\"], [0.3333333333333333, \"#9c179e\"], [0.4444444444444444, \"#bd3786\"], [0.5555555555555556, \"#d8576b\"], [0.6666666666666666, \"#ed7953\"], [0.7777777777777778, \"#fb9f3a\"], [0.8888888888888888, \"#fdca26\"], [1.0, \"#f0f921\"]], \"type\": \"contour\"}], \"contourcarpet\": [{\"colorbar\": {\"outlinewidth\": 0, \"ticks\": \"\"}, \"type\": \"contourcarpet\"}], \"heatmap\": [{\"colorbar\": {\"outlinewidth\": 0, \"ticks\": \"\"}, \"colorscale\": [[0.0, \"#0d0887\"], [0.1111111111111111, \"#46039f\"], [0.2222222222222222, \"#7201a8\"], [0.3333333333333333, \"#9c179e\"], [0.4444444444444444, \"#bd3786\"], [0.5555555555555556, \"#d8576b\"], [0.6666666666666666, \"#ed7953\"], [0.7777777777777778, \"#fb9f3a\"], [0.8888888888888888, \"#fdca26\"], [1.0, \"#f0f921\"]], \"type\": \"heatmap\"}], \"heatmapgl\": [{\"colorbar\": {\"outlinewidth\": 0, \"ticks\": \"\"}, \"colorscale\": [[0.0, \"#0d0887\"], [0.1111111111111111, \"#46039f\"], [0.2222222222222222, \"#7201a8\"], [0.3333333333333333, \"#9c179e\"], [0.4444444444444444, \"#bd3786\"], [0.5555555555555556, \"#d8576b\"], [0.6666666666666666, \"#ed7953\"], [0.7777777777777778, \"#fb9f3a\"], [0.8888888888888888, \"#fdca26\"], [1.0, \"#f0f921\"]], \"type\": \"heatmapgl\"}], \"histogram\": [{\"marker\": {\"colorbar\": {\"outlinewidth\": 0, \"ticks\": \"\"}}, \"type\": \"histogram\"}], \"histogram2d\": [{\"colorbar\": {\"outlinewidth\": 0, \"ticks\": \"\"}, \"colorscale\": [[0.0, \"#0d0887\"], [0.1111111111111111, \"#46039f\"], [0.2222222222222222, \"#7201a8\"], [0.3333333333333333, \"#9c179e\"], [0.4444444444444444, \"#bd3786\"], [0.5555555555555556, \"#d8576b\"], [0.6666666666666666, \"#ed7953\"], [0.7777777777777778, \"#fb9f3a\"], [0.8888888888888888, \"#fdca26\"], [1.0, \"#f0f921\"]], \"type\": \"histogram2d\"}], \"histogram2dcontour\": [{\"colorbar\": {\"outlinewidth\": 0, \"ticks\": \"\"}, \"colorscale\": [[0.0, \"#0d0887\"], [0.1111111111111111, \"#46039f\"], [0.2222222222222222, \"#7201a8\"], [0.3333333333333333, \"#9c179e\"], [0.4444444444444444, \"#bd3786\"], [0.5555555555555556, \"#d8576b\"], [0.6666666666666666, \"#ed7953\"], [0.7777777777777778, \"#fb9f3a\"], [0.8888888888888888, \"#fdca26\"], [1.0, \"#f0f921\"]], \"type\": \"histogram2dcontour\"}], \"mesh3d\": [{\"colorbar\": {\"outlinewidth\": 0, \"ticks\": \"\"}, \"type\": \"mesh3d\"}], \"parcoords\": [{\"line\": {\"colorbar\": {\"outlinewidth\": 0, \"ticks\": \"\"}}, \"type\": \"parcoords\"}], \"pie\": [{\"automargin\": true, \"type\": \"pie\"}], \"scatter\": [{\"marker\": {\"colorbar\": {\"outlinewidth\": 0, \"ticks\": \"\"}}, \"type\": \"scatter\"}], \"scatter3d\": [{\"line\": {\"colorbar\": {\"outlinewidth\": 0, \"ticks\": \"\"}}, \"marker\": {\"colorbar\": {\"outlinewidth\": 0, \"ticks\": \"\"}}, \"type\": \"scatter3d\"}], \"scattercarpet\": [{\"marker\": {\"colorbar\": {\"outlinewidth\": 0, \"ticks\": \"\"}}, \"type\": \"scattercarpet\"}], \"scattergeo\": [{\"marker\": {\"colorbar\": {\"outlinewidth\": 0, \"ticks\": \"\"}}, \"type\": \"scattergeo\"}], \"scattergl\": [{\"marker\": {\"colorbar\": {\"outlinewidth\": 0, \"ticks\": \"\"}}, \"type\": \"scattergl\"}], \"scattermapbox\": [{\"marker\": {\"colorbar\": {\"outlinewidth\": 0, \"ticks\": \"\"}}, \"type\": \"scattermapbox\"}], \"scatterpolar\": [{\"marker\": {\"colorbar\": {\"outlinewidth\": 0, \"ticks\": \"\"}}, \"type\": \"scatterpolar\"}], \"scatterpolargl\": [{\"marker\": {\"colorbar\": {\"outlinewidth\": 0, \"ticks\": \"\"}}, \"type\": \"scatterpolargl\"}], \"scatterternary\": [{\"marker\": {\"colorbar\": {\"outlinewidth\": 0, \"ticks\": \"\"}}, \"type\": \"scatterternary\"}], \"surface\": [{\"colorbar\": {\"outlinewidth\": 0, \"ticks\": \"\"}, \"colorscale\": [[0.0, \"#0d0887\"], [0.1111111111111111, \"#46039f\"], [0.2222222222222222, \"#7201a8\"], [0.3333333333333333, \"#9c179e\"], [0.4444444444444444, \"#bd3786\"], [0.5555555555555556, \"#d8576b\"], [0.6666666666666666, \"#ed7953\"], [0.7777777777777778, \"#fb9f3a\"], [0.8888888888888888, \"#fdca26\"], [1.0, \"#f0f921\"]], \"type\": \"surface\"}], \"table\": [{\"cells\": {\"fill\": {\"color\": \"#EBF0F8\"}, \"line\": {\"color\": \"white\"}}, \"header\": {\"fill\": {\"color\": \"#C8D4E3\"}, \"line\": {\"color\": \"white\"}}, \"type\": \"table\"}]}, \"layout\": {\"annotationdefaults\": {\"arrowcolor\": \"#2a3f5f\", \"arrowhead\": 0, \"arrowwidth\": 1}, \"coloraxis\": {\"colorbar\": {\"outlinewidth\": 0, \"ticks\": \"\"}}, \"colorscale\": {\"diverging\": [[0, \"#8e0152\"], [0.1, \"#c51b7d\"], [0.2, \"#de77ae\"], [0.3, \"#f1b6da\"], [0.4, \"#fde0ef\"], [0.5, \"#f7f7f7\"], [0.6, \"#e6f5d0\"], [0.7, \"#b8e186\"], [0.8, \"#7fbc41\"], [0.9, \"#4d9221\"], [1, \"#276419\"]], \"sequential\": [[0.0, \"#0d0887\"], [0.1111111111111111, \"#46039f\"], [0.2222222222222222, \"#7201a8\"], [0.3333333333333333, \"#9c179e\"], [0.4444444444444444, \"#bd3786\"], [0.5555555555555556, \"#d8576b\"], [0.6666666666666666, \"#ed7953\"], [0.7777777777777778, \"#fb9f3a\"], [0.8888888888888888, \"#fdca26\"], [1.0, \"#f0f921\"]], \"sequentialminus\": [[0.0, \"#0d0887\"], [0.1111111111111111, \"#46039f\"], [0.2222222222222222, \"#7201a8\"], [0.3333333333333333, \"#9c179e\"], [0.4444444444444444, \"#bd3786\"], [0.5555555555555556, \"#d8576b\"], [0.6666666666666666, \"#ed7953\"], [0.7777777777777778, \"#fb9f3a\"], [0.8888888888888888, \"#fdca26\"], [1.0, \"#f0f921\"]]}, \"colorway\": [\"#636efa\", \"#EF553B\", \"#00cc96\", \"#ab63fa\", \"#FFA15A\", \"#19d3f3\", \"#FF6692\", \"#B6E880\", \"#FF97FF\", \"#FECB52\"], \"font\": {\"color\": \"#2a3f5f\"}, \"geo\": {\"bgcolor\": \"white\", \"lakecolor\": \"white\", \"landcolor\": \"#E5ECF6\", \"showlakes\": true, \"showland\": true, \"subunitcolor\": \"white\"}, \"hoverlabel\": {\"align\": \"left\"}, \"hovermode\": \"closest\", \"mapbox\": {\"style\": \"light\"}, \"paper_bgcolor\": \"white\", \"plot_bgcolor\": \"#E5ECF6\", \"polar\": {\"angularaxis\": {\"gridcolor\": \"white\", \"linecolor\": \"white\", \"ticks\": \"\"}, \"bgcolor\": \"#E5ECF6\", \"radialaxis\": {\"gridcolor\": \"white\", \"linecolor\": \"white\", \"ticks\": \"\"}}, \"scene\": {\"xaxis\": {\"backgroundcolor\": \"#E5ECF6\", \"gridcolor\": \"white\", \"gridwidth\": 2, \"linecolor\": \"white\", \"showbackground\": true, \"ticks\": \"\", \"zerolinecolor\": \"white\"}, \"yaxis\": {\"backgroundcolor\": \"#E5ECF6\", \"gridcolor\": \"white\", \"gridwidth\": 2, \"linecolor\": \"white\", \"showbackground\": true, \"ticks\": \"\", \"zerolinecolor\": \"white\"}, \"zaxis\": {\"backgroundcolor\": \"#E5ECF6\", \"gridcolor\": \"white\", \"gridwidth\": 2, \"linecolor\": \"white\", \"showbackground\": true, \"ticks\": \"\", \"zerolinecolor\": \"white\"}}, \"shapedefaults\": {\"line\": {\"color\": \"#2a3f5f\"}}, \"ternary\": {\"aaxis\": {\"gridcolor\": \"white\", \"linecolor\": \"white\", \"ticks\": \"\"}, \"baxis\": {\"gridcolor\": \"white\", \"linecolor\": \"white\", \"ticks\": \"\"}, \"bgcolor\": \"#E5ECF6\", \"caxis\": {\"gridcolor\": \"white\", \"linecolor\": \"white\", \"ticks\": \"\"}}, \"title\": {\"x\": 0.05}, \"xaxis\": {\"automargin\": true, \"gridcolor\": \"white\", \"linecolor\": \"white\", \"ticks\": \"\", \"title\": {\"standoff\": 15}, \"zerolinecolor\": \"white\", \"zerolinewidth\": 2}, \"yaxis\": {\"automargin\": true, \"gridcolor\": \"white\", \"linecolor\": \"white\", \"ticks\": \"\", \"title\": {\"standoff\": 15}, \"zerolinecolor\": \"white\", \"zerolinewidth\": 2}}}},\n",
       "                        {\"responsive\": true}\n",
       "                    ).then(function(){\n",
       "                            \n",
       "var gd = document.getElementById('2679ecf2-5631-4e38-82ee-ce307cd20607');\n",
       "var x = new MutationObserver(function (mutations, observer) {{\n",
       "        var display = window.getComputedStyle(gd).display;\n",
       "        if (!display || display === 'none') {{\n",
       "            console.log([gd, 'removed!']);\n",
       "            Plotly.purge(gd);\n",
       "            observer.disconnect();\n",
       "        }}\n",
       "}});\n",
       "\n",
       "// Listen for the removal of the full notebook cells\n",
       "var notebookContainer = gd.closest('#notebook-container');\n",
       "if (notebookContainer) {{\n",
       "    x.observe(notebookContainer, {childList: true});\n",
       "}}\n",
       "\n",
       "// Listen for the clearing of the current output cell\n",
       "var outputEl = gd.closest('.output');\n",
       "if (outputEl) {{\n",
       "    x.observe(outputEl, {childList: true});\n",
       "}}\n",
       "\n",
       "                        })\n",
       "                };\n",
       "                });\n",
       "            </script>\n",
       "        </div>"
      ]
     },
     "metadata": {},
     "output_type": "display_data"
    },
    {
     "name": "stdout",
     "output_type": "stream",
     "text": [
      "\u001b[1m\u001b[4m\t\t\t Continent: Total COVID-19 Cases \n"
     ]
    },
    {
     "data": {
      "text/html": [
       "<style  type=\"text/css\" >\n",
       "    #T_599e36de_a2a2_11ea_96e8_34689523aaa9row0_col0 {\n",
       "            background-color:  #f1f1bb;\n",
       "            color:  #000000;\n",
       "        }    #T_599e36de_a2a2_11ea_96e8_34689523aaa9row0_col1 {\n",
       "            background-color:  #fff2eb;\n",
       "            color:  #000000;\n",
       "        }    #T_599e36de_a2a2_11ea_96e8_34689523aaa9row0_col2 {\n",
       "            background-color:  #eff9eb;\n",
       "            color:  #000000;\n",
       "        }    #T_599e36de_a2a2_11ea_96e8_34689523aaa9row0_col3 {\n",
       "            background-color:  #f6f5f9;\n",
       "            color:  #000000;\n",
       "        }    #T_599e36de_a2a2_11ea_96e8_34689523aaa9row0_col4 {\n",
       "            background-color:  #f2f2f2;\n",
       "            color:  #000000;\n",
       "        }    #T_599e36de_a2a2_11ea_96e8_34689523aaa9row0_col5 {\n",
       "            background-color:  #feeca4;\n",
       "            color:  #000000;\n",
       "        }    #T_599e36de_a2a2_11ea_96e8_34689523aaa9row1_col0 {\n",
       "            background-color:  #d73b49;\n",
       "            color:  #f1f1f1;\n",
       "        }    #T_599e36de_a2a2_11ea_96e8_34689523aaa9row1_col1 {\n",
       "            background-color:  #fdd3c1;\n",
       "            color:  #000000;\n",
       "        }    #T_599e36de_a2a2_11ea_96e8_34689523aaa9row1_col2 {\n",
       "            background-color:  #2d954d;\n",
       "            color:  #000000;\n",
       "        }    #T_599e36de_a2a2_11ea_96e8_34689523aaa9row1_col3 {\n",
       "            background-color:  #cecee5;\n",
       "            color:  #000000;\n",
       "        }    #T_599e36de_a2a2_11ea_96e8_34689523aaa9row1_col4 {\n",
       "            background-color:  #fed9a6;\n",
       "            color:  #000000;\n",
       "        }    #T_599e36de_a2a2_11ea_96e8_34689523aaa9row1_col5 {\n",
       "            background-color:  #ffefaa;\n",
       "            color:  #000000;\n",
       "        }    #T_599e36de_a2a2_11ea_96e8_34689523aaa9row2_col0 {\n",
       "            background-color:  #ffffff;\n",
       "            color:  #000000;\n",
       "        }    #T_599e36de_a2a2_11ea_96e8_34689523aaa9row2_col1 {\n",
       "            background-color:  #fff5f0;\n",
       "            color:  #000000;\n",
       "        }    #T_599e36de_a2a2_11ea_96e8_34689523aaa9row2_col2 {\n",
       "            background-color:  #f6fcf4;\n",
       "            color:  #000000;\n",
       "        }    #T_599e36de_a2a2_11ea_96e8_34689523aaa9row2_col3 {\n",
       "            background-color:  #fcfbfd;\n",
       "            color:  #000000;\n",
       "        }    #T_599e36de_a2a2_11ea_96e8_34689523aaa9row2_col4 {\n",
       "            background-color:  #f2f2f2;\n",
       "            color:  #000000;\n",
       "        }    #T_599e36de_a2a2_11ea_96e8_34689523aaa9row2_col5 {\n",
       "            background-color:  #ffffe5;\n",
       "            color:  #000000;\n",
       "        }    #T_599e36de_a2a2_11ea_96e8_34689523aaa9row3_col0 {\n",
       "            background-color:  #04040c;\n",
       "            color:  #f1f1f1;\n",
       "        }    #T_599e36de_a2a2_11ea_96e8_34689523aaa9row3_col1 {\n",
       "            background-color:  #67000d;\n",
       "            color:  #f1f1f1;\n",
       "        }    #T_599e36de_a2a2_11ea_96e8_34689523aaa9row3_col2 {\n",
       "            background-color:  #00441b;\n",
       "            color:  #f1f1f1;\n",
       "        }    #T_599e36de_a2a2_11ea_96e8_34689523aaa9row3_col3 {\n",
       "            background-color:  #7b74b5;\n",
       "            color:  #000000;\n",
       "        }    #T_599e36de_a2a2_11ea_96e8_34689523aaa9row3_col4 {\n",
       "            background-color:  #fbb4ae;\n",
       "            color:  #000000;\n",
       "        }    #T_599e36de_a2a2_11ea_96e8_34689523aaa9row3_col5 {\n",
       "            background-color:  #662506;\n",
       "            color:  #f1f1f1;\n",
       "        }    #T_599e36de_a2a2_11ea_96e8_34689523aaa9row4_col0 {\n",
       "            background-color:  #000000;\n",
       "            color:  #f1f1f1;\n",
       "        }    #T_599e36de_a2a2_11ea_96e8_34689523aaa9row4_col1 {\n",
       "            background-color:  #da2723;\n",
       "            color:  #f1f1f1;\n",
       "        }    #T_599e36de_a2a2_11ea_96e8_34689523aaa9row4_col2 {\n",
       "            background-color:  #53b466;\n",
       "            color:  #000000;\n",
       "        }    #T_599e36de_a2a2_11ea_96e8_34689523aaa9row4_col3 {\n",
       "            background-color:  #3f007d;\n",
       "            color:  #f1f1f1;\n",
       "        }    #T_599e36de_a2a2_11ea_96e8_34689523aaa9row4_col4 {\n",
       "            background-color:  #fddaec;\n",
       "            color:  #000000;\n",
       "        }    #T_599e36de_a2a2_11ea_96e8_34689523aaa9row4_col5 {\n",
       "            background-color:  #eb6f14;\n",
       "            color:  #000000;\n",
       "        }    #T_599e36de_a2a2_11ea_96e8_34689523aaa9row5_col0 {\n",
       "            background-color:  #ffffff;\n",
       "            color:  #000000;\n",
       "        }    #T_599e36de_a2a2_11ea_96e8_34689523aaa9row5_col1 {\n",
       "            background-color:  #fff5f0;\n",
       "            color:  #000000;\n",
       "        }    #T_599e36de_a2a2_11ea_96e8_34689523aaa9row5_col2 {\n",
       "            background-color:  #f7fcf5;\n",
       "            color:  #000000;\n",
       "        }    #T_599e36de_a2a2_11ea_96e8_34689523aaa9row5_col3 {\n",
       "            background-color:  #fcfbfd;\n",
       "            color:  #000000;\n",
       "        }    #T_599e36de_a2a2_11ea_96e8_34689523aaa9row5_col4 {\n",
       "            background-color:  #fddaec;\n",
       "            color:  #000000;\n",
       "        }    #T_599e36de_a2a2_11ea_96e8_34689523aaa9row5_col5 {\n",
       "            background-color:  #fff8c2;\n",
       "            color:  #000000;\n",
       "        }    #T_599e36de_a2a2_11ea_96e8_34689523aaa9row6_col0 {\n",
       "            background-color:  #eb7308;\n",
       "            color:  #000000;\n",
       "        }    #T_599e36de_a2a2_11ea_96e8_34689523aaa9row6_col1 {\n",
       "            background-color:  #fcc4ad;\n",
       "            color:  #000000;\n",
       "        }    #T_599e36de_a2a2_11ea_96e8_34689523aaa9row6_col2 {\n",
       "            background-color:  #a8dca2;\n",
       "            color:  #000000;\n",
       "        }    #T_599e36de_a2a2_11ea_96e8_34689523aaa9row6_col3 {\n",
       "            background-color:  #c8c8e2;\n",
       "            color:  #000000;\n",
       "        }    #T_599e36de_a2a2_11ea_96e8_34689523aaa9row6_col4 {\n",
       "            background-color:  #fddaec;\n",
       "            color:  #000000;\n",
       "        }    #T_599e36de_a2a2_11ea_96e8_34689523aaa9row6_col5 {\n",
       "            background-color:  #fea937;\n",
       "            color:  #000000;\n",
       "        }</style><table id=\"T_599e36de_a2a2_11ea_96e8_34689523aaa9\" ><thead>    <tr>        <th class=\"blank level0\" ></th>        <th class=\"col_heading level0 col0\" >Confirmed</th>        <th class=\"col_heading level0 col1\" >Deaths</th>        <th class=\"col_heading level0 col2\" >Recovered</th>        <th class=\"col_heading level0 col3\" >Active</th>        <th class=\"col_heading level0 col4\" >Incident_Rate</th>        <th class=\"col_heading level0 col5\" >Mortality Rate (per 100)</th>    </tr>    <tr>        <th class=\"index_name level0\" >continent</th>        <th class=\"blank\" ></th>        <th class=\"blank\" ></th>        <th class=\"blank\" ></th>        <th class=\"blank\" ></th>        <th class=\"blank\" ></th>        <th class=\"blank\" ></th>    </tr></thead><tbody>\n",
       "                <tr>\n",
       "                        <th id=\"T_599e36de_a2a2_11ea_96e8_34689523aaa9level0_row0\" class=\"row_heading level0 row0\" >Africa</th>\n",
       "                        <td id=\"T_599e36de_a2a2_11ea_96e8_34689523aaa9row0_col0\" class=\"data row0 col0\" >135366</td>\n",
       "                        <td id=\"T_599e36de_a2a2_11ea_96e8_34689523aaa9row0_col1\" class=\"data row0 col1\" >3922</td>\n",
       "                        <td id=\"T_599e36de_a2a2_11ea_96e8_34689523aaa9row0_col2\" class=\"data row0 col2\" >56394</td>\n",
       "                        <td id=\"T_599e36de_a2a2_11ea_96e8_34689523aaa9row0_col3\" class=\"data row0 col3\" >75050</td>\n",
       "                        <td id=\"T_599e36de_a2a2_11ea_96e8_34689523aaa9row0_col4\" class=\"data row0 col4\" >1294.51</td>\n",
       "                        <td id=\"T_599e36de_a2a2_11ea_96e8_34689523aaa9row0_col5\" class=\"data row0 col5\" >2.9</td>\n",
       "            </tr>\n",
       "            <tr>\n",
       "                        <th id=\"T_599e36de_a2a2_11ea_96e8_34689523aaa9level0_row1\" class=\"row_heading level0 row1\" >Asia</th>\n",
       "                        <td id=\"T_599e36de_a2a2_11ea_96e8_34689523aaa9row1_col0\" class=\"data row1 col0\" >1.07971e+06</td>\n",
       "                        <td id=\"T_599e36de_a2a2_11ea_96e8_34689523aaa9row1_col1\" class=\"data row1 col1\" >29669</td>\n",
       "                        <td id=\"T_599e36de_a2a2_11ea_96e8_34689523aaa9row1_col2\" class=\"data row1 col2\" >650853</td>\n",
       "                        <td id=\"T_599e36de_a2a2_11ea_96e8_34689523aaa9row1_col3\" class=\"data row1 col3\" >399188</td>\n",
       "                        <td id=\"T_599e36de_a2a2_11ea_96e8_34689523aaa9row1_col4\" class=\"data row1 col4\" >6098.67</td>\n",
       "                        <td id=\"T_599e36de_a2a2_11ea_96e8_34689523aaa9row1_col5\" class=\"data row1 col5\" >2.75</td>\n",
       "            </tr>\n",
       "            <tr>\n",
       "                        <th id=\"T_599e36de_a2a2_11ea_96e8_34689523aaa9level0_row2\" class=\"row_heading level0 row2\" >Australia</th>\n",
       "                        <td id=\"T_599e36de_a2a2_11ea_96e8_34689523aaa9row2_col0\" class=\"data row2 col0\" >8703</td>\n",
       "                        <td id=\"T_599e36de_a2a2_11ea_96e8_34689523aaa9row2_col1\" class=\"data row2 col1\" >125</td>\n",
       "                        <td id=\"T_599e36de_a2a2_11ea_96e8_34689523aaa9row2_col2\" class=\"data row2 col2\" >8086</td>\n",
       "                        <td id=\"T_599e36de_a2a2_11ea_96e8_34689523aaa9row2_col3\" class=\"data row2 col3\" >492</td>\n",
       "                        <td id=\"T_599e36de_a2a2_11ea_96e8_34689523aaa9row2_col4\" class=\"data row2 col4\" >61.4602</td>\n",
       "                        <td id=\"T_599e36de_a2a2_11ea_96e8_34689523aaa9row2_col5\" class=\"data row2 col5\" >1.44</td>\n",
       "            </tr>\n",
       "            <tr>\n",
       "                        <th id=\"T_599e36de_a2a2_11ea_96e8_34689523aaa9level0_row3\" class=\"row_heading level0 row3\" >Europe</th>\n",
       "                        <td id=\"T_599e36de_a2a2_11ea_96e8_34689523aaa9row3_col0\" class=\"data row3 col0\" >1.94033e+06</td>\n",
       "                        <td id=\"T_599e36de_a2a2_11ea_96e8_34689523aaa9row3_col1\" class=\"data row3 col1\" >172476</td>\n",
       "                        <td id=\"T_599e36de_a2a2_11ea_96e8_34689523aaa9row3_col2\" class=\"data row3 col2\" >916623</td>\n",
       "                        <td id=\"T_599e36de_a2a2_11ea_96e8_34689523aaa9row3_col3\" class=\"data row3 col3\" >851234</td>\n",
       "                        <td id=\"T_599e36de_a2a2_11ea_96e8_34689523aaa9row3_col4\" class=\"data row3 col4\" >11615.2</td>\n",
       "                        <td id=\"T_599e36de_a2a2_11ea_96e8_34689523aaa9row3_col5\" class=\"data row3 col5\" >8.89</td>\n",
       "            </tr>\n",
       "            <tr>\n",
       "                        <th id=\"T_599e36de_a2a2_11ea_96e8_34689523aaa9level0_row4\" class=\"row_heading level0 row4\" >North America</th>\n",
       "                        <td id=\"T_599e36de_a2a2_11ea_96e8_34689523aaa9row4_col0\" class=\"data row4 col0\" >1.9642e+06</td>\n",
       "                        <td id=\"T_599e36de_a2a2_11ea_96e8_34689523aaa9row4_col1\" class=\"data row4 col1\" >120233</td>\n",
       "                        <td id=\"T_599e36de_a2a2_11ea_96e8_34689523aaa9row4_col2\" class=\"data row4 col2\" >532570</td>\n",
       "                        <td id=\"T_599e36de_a2a2_11ea_96e8_34689523aaa9row4_col3\" class=\"data row4 col3\" >1.3114e+06</td>\n",
       "                        <td id=\"T_599e36de_a2a2_11ea_96e8_34689523aaa9row4_col4\" class=\"data row4 col4\" >1654.91</td>\n",
       "                        <td id=\"T_599e36de_a2a2_11ea_96e8_34689523aaa9row4_col5\" class=\"data row4 col5\" >6.12</td>\n",
       "            </tr>\n",
       "            <tr>\n",
       "                        <th id=\"T_599e36de_a2a2_11ea_96e8_34689523aaa9level0_row5\" class=\"row_heading level0 row5\" >Others</th>\n",
       "                        <td id=\"T_599e36de_a2a2_11ea_96e8_34689523aaa9row5_col0\" class=\"data row5 col0\" >2467</td>\n",
       "                        <td id=\"T_599e36de_a2a2_11ea_96e8_34689523aaa9row5_col1\" class=\"data row5 col1\" >55</td>\n",
       "                        <td id=\"T_599e36de_a2a2_11ea_96e8_34689523aaa9row5_col2\" class=\"data row5 col2\" >1982</td>\n",
       "                        <td id=\"T_599e36de_a2a2_11ea_96e8_34689523aaa9row5_col3\" class=\"data row5 col3\" >430</td>\n",
       "                        <td id=\"T_599e36de_a2a2_11ea_96e8_34689523aaa9row5_col4\" class=\"data row5 col4\" >1553.65</td>\n",
       "                        <td id=\"T_599e36de_a2a2_11ea_96e8_34689523aaa9row5_col5\" class=\"data row5 col5\" >2.23</td>\n",
       "            </tr>\n",
       "            <tr>\n",
       "                        <th id=\"T_599e36de_a2a2_11ea_96e8_34689523aaa9level0_row6\" class=\"row_heading level0 row6\" >South America</th>\n",
       "                        <td id=\"T_599e36de_a2a2_11ea_96e8_34689523aaa9row6_col0\" class=\"data row6 col0\" >788583</td>\n",
       "                        <td id=\"T_599e36de_a2a2_11ea_96e8_34689523aaa9row6_col1\" class=\"data row6 col1\" >37979</td>\n",
       "                        <td id=\"T_599e36de_a2a2_11ea_96e8_34689523aaa9row6_col2\" class=\"data row6 col2\" >323713</td>\n",
       "                        <td id=\"T_599e36de_a2a2_11ea_96e8_34689523aaa9row6_col3\" class=\"data row6 col3\" >426891</td>\n",
       "                        <td id=\"T_599e36de_a2a2_11ea_96e8_34689523aaa9row6_col4\" class=\"data row6 col4\" >1559.48</td>\n",
       "                        <td id=\"T_599e36de_a2a2_11ea_96e8_34689523aaa9row6_col5\" class=\"data row6 col5\" >4.82</td>\n",
       "            </tr>\n",
       "    </tbody></table>"
      ],
      "text/plain": [
       "<pandas.io.formats.style.Styler at 0x1f5769ad348>"
      ]
     },
     "metadata": {},
     "output_type": "display_data"
    }
   ],
   "source": [
    "# Getting continent wise data\n",
    "\n",
    "fig =go.Figure(go.Sunburst(\n",
    "    labels=[\"World\", \"Africa\", \"Asia\", \"Australia\", \"Europe\", \"North America\", \"South America\", \"Other\", \"India\", \"Other Asian Country\"],\n",
    "    parents=[\"\", \"World\",  \"World\", \"World\", \"World\", \"World\", \"World\", \"World\", \"Asia\", \"Asia\"],\n",
    "    values=[df_world[\"Confirmed\"].sum(), continents_cases.iloc[0,0], continents_cases.iloc[1,0], continents_cases.iloc[2,0], continents_cases.iloc[3,0], continents_cases.iloc[4,0], continents_cases.iloc[6,0], continents_cases.iloc[5,0], temp_india[\"Confirmed\"].sum(), (continents_cases.iloc[1,0]-temp_india[\"Confirmed\"].sum())],\n",
    "))\n",
    "print('\\033[1m' + '\\033[4m'+ '\\n\\n\\t\\t\\t\\t\\t Confirmed COVID-19 Cases in Continents ')\n",
    "fig.update_layout(margin = dict(t=0, r=0, l=0, b=0))\n",
    "fig.show()\n",
    "\n",
    "print('\\033[1m' + '\\033[4m'+ '\\t\\t\\t Continent: Total COVID-19 Cases ')\n",
    "display(continents_cases.style\\\n",
    "                            .background_gradient(cmap='CMRmap_r',subset=[\"Confirmed\"])\\\n",
    "                            .background_gradient(cmap='Reds',subset=[\"Deaths\"])\\\n",
    "                            .background_gradient(cmap='Greens',subset=[\"Recovered\"])\\\n",
    "                            .background_gradient(cmap='Purples',subset=[\"Active\"])\\\n",
    "                            .background_gradient(cmap='Pastel1_r',subset=[\"Incident_Rate\"])\\\n",
    "                            .background_gradient(cmap='YlOrBr',subset=[\"Mortality Rate (per 100)\"]))"
   ]
  },
  {
   "cell_type": "code",
   "execution_count": null,
   "metadata": {
    "code_folding": [],
    "scrolled": false
   },
   "outputs": [],
   "source": [
    "#Covid19_Country TOP to BOTTOM\n",
    "countries_cases[\"Mortality Rate (per 100)\"] = np.round(100*countries_cases[\"Deaths\"]/countries_cases[\"Confirmed\"],2)\n",
    "temp=countries_cases.sort_values('Confirmed', ascending= False).style\\\n",
    "                                                        .background_gradient(cmap='CMRmap_r',subset=[\"Confirmed\"])\\\n",
    "                                                        .background_gradient(cmap='viridis_r',subset=[\"Deaths\"])\\\n",
    "                                                        .background_gradient(cmap='rocket_r',subset=[\"Recovered\"])\\\n",
    "                                                        .background_gradient(cmap='winter_r',subset=[\"Active\"])\\\n",
    "                                                        .background_gradient(cmap='Pastel1_r',subset=[\"Incident_Rate\"])\\\n",
    "                                                        .background_gradient(cmap='vlag',subset=[\"Mortality Rate (per 100)\"])\n",
    "display(temp)"
   ]
  },
  {
   "cell_type": "code",
   "execution_count": 59,
   "metadata": {},
   "outputs": [
    {
     "data": {
      "text/html": [
       "<div>\n",
       "<style scoped>\n",
       "    .dataframe tbody tr th:only-of-type {\n",
       "        vertical-align: middle;\n",
       "    }\n",
       "\n",
       "    .dataframe tbody tr th {\n",
       "        vertical-align: top;\n",
       "    }\n",
       "\n",
       "    .dataframe thead th {\n",
       "        text-align: right;\n",
       "    }\n",
       "</style>\n",
       "<table border=\"1\" class=\"dataframe\">\n",
       "  <thead>\n",
       "    <tr style=\"text-align: right;\">\n",
       "      <th></th>\n",
       "      <th>S. No.</th>\n",
       "      <th>Name of State / UT</th>\n",
       "      <th>Confirmed</th>\n",
       "      <th>Recovered</th>\n",
       "      <th>Deaths</th>\n",
       "    </tr>\n",
       "  </thead>\n",
       "  <tbody>\n",
       "    <tr>\n",
       "      <th>0</th>\n",
       "      <td>1</td>\n",
       "      <td>Andaman and Nicobar Islands</td>\n",
       "      <td>33</td>\n",
       "      <td>33</td>\n",
       "      <td>0</td>\n",
       "    </tr>\n",
       "    <tr>\n",
       "      <th>1</th>\n",
       "      <td>2</td>\n",
       "      <td>Andhra Pradesh</td>\n",
       "      <td>3251</td>\n",
       "      <td>2125</td>\n",
       "      <td>59</td>\n",
       "    </tr>\n",
       "    <tr>\n",
       "      <th>2</th>\n",
       "      <td>3</td>\n",
       "      <td>Arunachal Pradesh</td>\n",
       "      <td>3</td>\n",
       "      <td>1</td>\n",
       "      <td>0</td>\n",
       "    </tr>\n",
       "    <tr>\n",
       "      <th>3</th>\n",
       "      <td>4</td>\n",
       "      <td>Assam</td>\n",
       "      <td>856</td>\n",
       "      <td>104</td>\n",
       "      <td>4</td>\n",
       "    </tr>\n",
       "    <tr>\n",
       "      <th>4</th>\n",
       "      <td>5</td>\n",
       "      <td>Bihar</td>\n",
       "      <td>3296</td>\n",
       "      <td>1211</td>\n",
       "      <td>15</td>\n",
       "    </tr>\n",
       "  </tbody>\n",
       "</table>\n",
       "</div>"
      ],
      "text/plain": [
       "  S. No.           Name of State / UT  Confirmed  Recovered  Deaths\n",
       "0      1  Andaman and Nicobar Islands         33         33       0\n",
       "1      2               Andhra Pradesh       3251       2125      59\n",
       "2      3            Arunachal Pradesh          3          1       0\n",
       "3      4                        Assam        856        104       4\n",
       "4      5                        Bihar       3296       1211      15"
      ]
     },
     "execution_count": 59,
     "metadata": {},
     "output_type": "execute_result"
    }
   ],
   "source": [
    "df_india.head()"
   ]
  },
  {
   "cell_type": "markdown",
   "metadata": {},
   "source": [
    "### Top 10 countries"
   ]
  },
  {
   "cell_type": "code",
   "execution_count": null,
   "metadata": {},
   "outputs": [],
   "source": [
    "                                #############################################\n",
    "                                #    Top 10 Countries (Confirmed Cases)     #\n",
    "                                #############################################\n",
    "\n",
    "bar = plt.figure(figsize=(10,5))\n",
    "bar.add_subplot(111)\n",
    "\n",
    "plt.axes(axisbelow=True).set_facecolor(\"#ffffff\")\n",
    "plt.barh(countries_cases.sort_values('Confirmed')[\"Confirmed\"].index[-10:],countries_cases.sort_values('Confirmed')[\"Confirmed\"].values[-10:],color=\"#ff6700\")\n",
    "plt.tick_params(size=5,labelsize = 13)\n",
    "plt.xlabel(\"Confirmed Cases\",fontsize=18)\n",
    "plt.title(\"Top 10 Countries (Confirmed Cases)\",fontsize=20)\n",
    "plt.grid(b=False,alpha=0.3)\n",
    "\n",
    "                                #############################################\n",
    "                                #      Top 10 Countries (Deaths Cases)      #\n",
    "                                #############################################\n",
    "            \n",
    "bar = plt.figure(figsize=(10,5))\n",
    "bar.add_subplot(111)\n",
    "\n",
    "plt.axes(axisbelow=True).set_facecolor(\"#ffffff\")\n",
    "plt.barh(countries_cases.sort_values('Deaths')[\"Deaths\"].index[-10:],countries_cases.sort_values('Deaths')[\"Deaths\"].values[-10:],color=\"#ff8d00\")\n",
    "plt.tick_params(size=5,labelsize = 13)\n",
    "plt.xlabel(\"Deaths Cases\",fontsize=18)\n",
    "plt.title(\"Top 10 Countries (Deaths Cases)\",fontsize=20)\n",
    "plt.grid(alpha=0.3,which='both')\n",
    "\n",
    "                                #############################################\n",
    "                                #      Top 10 Countries (Active Cases)      #\n",
    "                                #############################################\n",
    "\n",
    "bar = plt.figure(figsize=(10,5))\n",
    "bar.add_subplot(111)\n",
    "\n",
    "plt.axes(axisbelow=True).set_facecolor(\"#ffffff\")\n",
    "plt.barh(countries_cases.sort_values('Active')[\"Active\"].index[-10:],countries_cases.sort_values('Active')[\"Active\"].values[-10:],color=\"#ffb400\")\n",
    "plt.tick_params(size=5,labelsize = 13)\n",
    "plt.xlabel(\"Active Cases\",fontsize=18)\n",
    "plt.title(\"Top 10 Countries (Active Cases)\",fontsize=20)\n",
    "plt.grid(alpha=0.3,which='both')\n",
    "\n",
    "                                #############################################\n",
    "                                #   Top 10 Countries (Recovered Cases)      #\n",
    "                                #############################################\n",
    "\n",
    "bar = plt.figure(figsize=(10,5))\n",
    "bar.add_subplot(111)\n",
    "\n",
    "plt.axes(axisbelow=True).set_facecolor(\"#ffffff\")\n",
    "plt.barh(countries_cases.sort_values('Recovered')[\"Recovered\"].index[-10:],countries_cases.sort_values('Recovered')[\"Recovered\"].values[-10:],color=\"#ffdb00\")\n",
    "plt.tick_params(size=5,labelsize = 13)\n",
    "plt.xlabel(\"Recovered Cases\",fontsize=18)\n",
    "plt.title(\"Top 10 Countries (Recovered Cases)\",fontsize=20)\n",
    "plt.grid(alpha=0.3,which='both')"
   ]
  },
  {
   "cell_type": "code",
   "execution_count": null,
   "metadata": {
    "code_folding": []
   },
   "outputs": [],
   "source": [
    "                        ########################################################################\n",
    "                        #   Getting country wise Confirmed, Deaths, Active, Recovered data     #\n",
    "                        ########################################################################\n",
    "    \n",
    "numeric = [covid19_df.loc[:,['country','Confirmed']],covid19_df.loc[:,['country','Deaths']],\\\n",
    "           covid19_df.loc[:,['country','Active']],covid19_df.loc[:,['country','Recovered']]\n",
    "          ]\n",
    "label = [\"Confirmed\",\"Deaths\",\"Active\",\"Recovered\"]\n",
    "\n",
    "rows = 4\n",
    "circular_plot = plt.figure(figsize=(15,10*rows))\n",
    "\n",
    "threshold = [25000,1000,15000,5000]\n",
    "for i, numeric in enumerate(numeric):\n",
    "    plt.tight_layout()\n",
    "    countries_df = numeric.groupby([\"country\"]).sum()\n",
    "    countries_df = countries_df.sort_values(countries_df.columns[-1],ascending= False)\n",
    "    others = countries_df[countries_df[countries_df.columns[-1]] < threshold[i] ].sum()[-1]\n",
    "    countries_df = countries_df[countries_df[countries_df.columns[-1]] > threshold[i]]\n",
    "    countries_df = countries_df[countries_df.columns[-1]]\n",
    "    countries_df[\"others\"] = others\n",
    "    labels = [countries_df.index[i] +\" (\" + str(int(countries_df[i])) +\") \"for i in range(countries_df.shape[0])]\n",
    "\n",
    "    ax = circular_plot.add_subplot(rows,1,i+1)\n",
    "    plt.pie(countries_df, labels=labels,autopct='%1.1f%%',pctdistance=0.85, labeldistance=1.1,textprops = {'fontsize':10.5})\n",
    "    my_plot=plt.Circle( (0,0), 0.7, color='white')\n",
    "    p=plt.gcf()\n",
    "    p.gca().add_artist(my_plot)\n",
    "    plt.text(0.5,0.5,\"World Total \"+label[i]+ \" COVID-19 Cases\\n\"+str(numeric.sum().values[1]), horizontalalignment='center',verticalalignment='center',transform=ax.transAxes, size=18, alpha = 0.6)\n"
   ]
  },
  {
   "cell_type": "markdown",
   "metadata": {},
   "source": [
    "# Correlation Analysis\n",
    "Correlation of confirmed Cases, Recovered Cases, Deaths and Active Cases."
   ]
  },
  {
   "cell_type": "markdown",
   "metadata": {},
   "source": [
    "#HIDE THIS CELL\n",
    "\n",
    "class color:\n",
    "   PURPLE = '\\033[95m'\n",
    "   CYAN = '\\033[96m'\n",
    "   DARKCYAN = '\\033[36m'\n",
    "   BLUE = '\\033[94m'\n",
    "   GREEN = '\\033[92m'\n",
    "   YELLOW = '\\033[93m'\n",
    "   RED = '\\033[91m'\n",
    "   BOLD = '\\033[1m'\n",
    "   UNDERLINE = '\\033[4m'\n",
    "   END = '\\033[0m'\n",
    "\n",
    "print(color.BOLD + 'Hello World !' + color.END)"
   ]
  },
  {
   "cell_type": "code",
   "execution_count": null,
   "metadata": {
    "scrolled": true
   },
   "outputs": [],
   "source": [
    "                                #############################################\n",
    "                                #          Country wise Correlation         #\n",
    "                                #############################################\n",
    "\n",
    "print('\\033[1m' + '\\033[4m' + '\\033[94m' + 'Country Wise Correlation')\n",
    "display(countries_cases.iloc[:,:].corr().style.background_gradient(cmap='autumn'))\n",
    "\n",
    "                                #############################################\n",
    "                                #         Continent Wise Correlation        #\n",
    "                                #############################################\n",
    "print('\\n\\n\\n')\n",
    "print('\\033[1m' + '\\033[4m' + '\\033[94m' + 'Continent Wise Correlation')\n",
    "display(continents_cases.iloc[:,:].corr().style.background_gradient(cmap='autumn_r'))"
   ]
  },
  {
   "cell_type": "code",
   "execution_count": null,
   "metadata": {},
   "outputs": [],
   "source": [
    "data_df = table_df.groupby(['Last_Update', 'Country_Region'])['Confirmed', 'Deaths'].max().reset_index().fillna(0)\n",
    "data_df[\"Last_Update\"] = pd.to_datetime(data_df[\"Last_Update\"]).dt.strftime('%m/%d/%Y')\n",
    "\n",
    "fig = px.scatter_geo(data_df, locations=\"Country_Region\", locationmode='country names', \n",
    "                     color=np.power(data_df[\"Confirmed\"],0.3)-2 , size= np.power(data_df[\"Confirmed\"]+1,0.3)-1, hover_name=\"Country_Region\",\n",
    "                     hover_data=[\"Confirmed\"],\n",
    "                     range_color= [0, max(np.power(data_df[\"Confirmed\"],0.3))], \n",
    "                     projection=\"natural earth\", animation_frame=\"Last_Update\", \n",
    "                     color_continuous_scale=px.colors.sequential.Plasma,\n",
    "                     title='COVID-19: Progression of spread'\n",
    "                    )\n",
    "fig.update_coloraxes(colorscale=\"hot\")\n",
    "fig.update(layout_coloraxis_showscale=False)\n",
    "fig.show()"
   ]
  },
  {
   "cell_type": "markdown",
   "metadata": {},
   "source": [
    "#### Age Group Analysis ¶"
   ]
  },
  {
   "cell_type": "code",
   "execution_count": null,
   "metadata": {},
   "outputs": [],
   "source": [
    "labels = list(age_details['AgeGroup'])\n",
    "sizes = list(age_details['TotalCases'])\n",
    "\n",
    "explode = []\n",
    "\n",
    "for i in labels:\n",
    "    explode.append(0.05)\n",
    "    \n",
    "plt.figure(figsize= (12,8))\n",
    "plt.pie(sizes, labels=labels, autopct='%1.1f%%', startangle=9, explode =explode)\n",
    "centre_circle = plt.Circle((0,0), 0.7, color='white')\n",
    "\n",
    "fig = plt.gcf()\n",
    "fig.gca().add_artist(centre_circle)\n",
    "#plt.title('India - Age Group wise Distribution',fontsize = 20)\n",
    "plt.text(0.340,0.39,\"India - Age Group wise Distribution\", horizontalalignment='center',verticalalignment='center',transform=ax.transAxes, size=16, alpha = 1)\n",
    "plt.axis('equal')  \n",
    "plt.tight_layout()"
   ]
  },
  {
   "cell_type": "markdown",
   "metadata": {},
   "source": [
    "* We could see that the __age group <40__ is the __most affected (approximate 46% from age group 20 to 39)__ which is against the trend which says elderly people are more at risk of being affected.\n",
    "* Only __approximate 18% of people age group >60__ are affected."
   ]
  },
  {
   "cell_type": "markdown",
   "metadata": {},
   "source": [
    "### Population of INDIA"
   ]
  },
  {
   "cell_type": "code",
   "execution_count": null,
   "metadata": {},
   "outputs": [],
   "source": [
    "labels1 = ['Missing', 'Male', 'Female']\n",
    "labels2 = ['Male', 'Female']\n",
    "\n",
    "sizes1 = []\n",
    "sizes1.append(individual_details['gender'].isnull().sum())\n",
    "sizes1.append(list(individual_details['gender'].value_counts())[0])\n",
    "sizes1.append(list(individual_details['gender'].value_counts())[1])\n",
    "\n",
    "sizes2 = []\n",
    "sizes2.append(list(individual_details['gender'].value_counts())[0])\n",
    "sizes2.append(list(individual_details['gender'].value_counts())[1])\n",
    "\n",
    "# Create subplots: use 'domain' type for Pie subplot\n",
    "fig = make_subplots(rows=1, cols=2, specs=[[{'type':'domain'}, {'type':'domain'}]])\n",
    "fig.add_trace(go.Pie(labels=labels1, values=sizes1),1, 1)\n",
    "fig.add_trace(go.Pie(labels=labels2, values=sizes2),1, 2)\n",
    "\n",
    "# Use `hole` to create a donut-like pie chart\n",
    "fig.update_traces(hole=.5, hoverinfo=\"label+percent+name\")\n",
    "\n",
    "fig.update_layout(\n",
    "    \n",
    "    # Add annotations in donut pies\n",
    "    annotations=[#title_text\n",
    "                 dict(text='Population of INDIA', x=0.5, y=1.2, font_size=22, showarrow=False),\n",
    "                 \n",
    "                 #Percentage of Gender\n",
    "                 dict(text='Percentage of Gender', x=0.13, y=-0.1, font_size=15, showarrow=False),\n",
    "                 \n",
    "                 #Percentage of Gender (Ignoring the Missing Values)\n",
    "                 dict(text='Percentage of Gender (Ignoring the Missing Values)', x=1.01, y=-0.1, font_size=15, showarrow=False)])\n",
    "fig.show()"
   ]
  },
  {
   "cell_type": "markdown",
   "metadata": {},
   "source": [
    "**Approximately 80% of the patients gender information is missing.**\n",
    "\n",
    "**Transgender information is also not mentioned. Let's analyse with remaining data.**\n",
    "\n",
    "**Men are the most affected accounting to 67%. But, remember we have ~80% data missing.**"
   ]
  },
  {
   "cell_type": "markdown",
   "metadata": {},
   "source": [
    "__THE SPIKE IN INDIA__"
   ]
  },
  {
   "cell_type": "code",
   "execution_count": null,
   "metadata": {},
   "outputs": [],
   "source": [
    "dates = list(confirmed_df.columns[4:])\n",
    "dates = list(pd.to_datetime(dates))\n",
    "dates_india = dates[8:]"
   ]
  },
  {
   "cell_type": "code",
   "execution_count": null,
   "metadata": {},
   "outputs": [],
   "source": [
    "df1 = confirmed_df.groupby('country').sum().reset_index()\n",
    "df2 = deaths_df.groupby('country').sum().reset_index()\n",
    "df3 = recovered_df.groupby('country').sum().reset_index()\n",
    "\n",
    "k = df1[df1['country']=='India'].loc[:,'1/30/20':]\n",
    "india_confirmed = k.values.tolist()[0] \n",
    "\n",
    "k = df2[df2['country']=='India'].loc[:,'1/30/20':]\n",
    "india_deaths = k.values.tolist()[0] \n",
    "\n",
    "k = df3[df3['country']=='India'].loc[:,'1/30/20':]\n",
    "india_recovered = k.values.tolist()[0] \n",
    "\n",
    "plt.figure(figsize= (12,8))\n",
    "plt.xticks(rotation = 90 ,fontsize = 11)\n",
    "plt.yticks(fontsize = 10)\n",
    "plt.xlabel(\"Dates\",fontsize = 20)\n",
    "plt.ylabel('Total cases',fontsize = 20)\n",
    "plt.title(\"Total Confirmed, Active, Death in India\" , fontsize = 20)\n",
    "\n",
    "ax1 = plt.plot_date(y= india_confirmed,x= dates_india,label = 'Confirmed',linestyle ='-',color = 'b')\n",
    "ax2 = plt.plot_date(y= india_recovered,x= dates_india,label = 'Recovered',linestyle ='-',color = 'g')\n",
    "ax3 = plt.plot_date(y= india_deaths,x= dates_india,label = 'Death',linestyle ='-',color = 'r')\n",
    "plt.legend();"
   ]
  },
  {
   "cell_type": "code",
   "execution_count": null,
   "metadata": {},
   "outputs": [],
   "source": [
    "countries = ['China','USA', 'Italy', 'Spain', 'France','India']\n",
    "\n",
    "global_confirmed = []\n",
    "global_recovered = []\n",
    "global_deaths = []\n",
    "global_active = []\n",
    "\n",
    "for country in countries:\n",
    "    k =df1[df1['country'] == country].loc[:,'1/30/20':]\n",
    "    global_confirmed.append(k.values.tolist()[0]) \n",
    "\n",
    "    k =df2[df2['country'] == country].loc[:,'1/30/20':]\n",
    "    global_deaths.append(k.values.tolist()[0]) \n",
    "\n",
    "    k =df3[df3['country'] == country].loc[:,'1/30/20':]\n",
    "    global_deaths.append(k.values.tolist()[0])  \n",
    "\n",
    "plt.figure(figsize= (15,10))\n",
    "plt.xticks(rotation = 90 ,fontsize = 11)\n",
    "plt.yticks(fontsize = 10)\n",
    "plt.xlabel(\"Dates\",fontsize = 20)\n",
    "plt.ylabel('Total cases',fontsize = 20)\n",
    "plt.title(\"Comparison with other Countries\" , fontsize = 20)\n",
    "\n",
    "for i in range(len(countries)):\n",
    "    plt.plot_date(y= global_confirmed[i],x= dates_india,label = countries[i],linestyle ='-')\n",
    "plt.legend();"
   ]
  },
  {
   "cell_type": "markdown",
   "metadata": {},
   "source": [
    "Though being highly populated the relative confimred cases of India is low compared to other countries. This could be because of two reasons\n",
    "* Lockdown imposed by Central Goverment.\n",
    "> <a href=\"https://www.indiatoday.in/india/story/without-lockdown-india-would-have-2-lakh-covid-19-cases-by-now-health-ministry-1665903-2020-04-11\" target=\"_blank\">Without Lockdown, 2 lakh Covid-19 cases by now:- Health ministry</a>\n",
    "* Low testing rate (According to below source).\n",
    "> <a href=\"https://www.bloombergquint.com/coronavirus-outbreak/indian-states-covid-19-testing-rates-lower-than-similarly-populated-countries\" target=\"_blank\">Indian States’ Covid-19 Testing Rates Lower Than Similarly Populated Countries</a>\n",
    "<br></br>\n",
    "> <a href=\"https://www.indiaspend.com/despite-ramping-up-testing-india-tests-least-among-worst-affected-countries/\" target=\"_blank\">Despite Ramping Up Testing, India Tests Least Among Worst Affected Countries</a>"
   ]
  },
  {
   "cell_type": "code",
   "execution_count": null,
   "metadata": {},
   "outputs": [],
   "source": [
    "ICMR_details['Percent_positive'] = round((ICMR_details['TotalPositiveCases']/ICMR_details['TotalSamplesTested'])*100,1)\n",
    "\n",
    "fig, ax1 = plt.subplots(figsize= (15,5))\n",
    "ax1.xaxis.set_major_formatter(mdates.DateFormatter('%d-%b'))\n",
    "ax1.set_ylabel('Positive Cases (% of Total Samples Tested)')\n",
    "ax1.bar(ICMR_details['DateTime'] , ICMR_details['Percent_positive'], color=\"red\",label = 'Percentage of Positive Cases')\n",
    "ax1.text(ICMR_details['DateTime'][0],4, 'Total Samples Tested as of Apr 23rd = 541789', style='italic',fontsize= 10,\n",
    "        bbox={'facecolor': 'white' ,'alpha': 0.5, 'pad': 5})\n",
    "\n",
    "ax2 = ax1.twinx()  \n",
    "ax2.xaxis.set_major_formatter(mdates.DateFormatter('%d-%b'))\n",
    "ax2.set_ylabel('Num Samples Tested')\n",
    "ax2.fill_between(ICMR_details['DateTime'],ICMR_details['TotalSamplesTested'],color = 'black',alpha = 0.5,label = 'Samples Tested');\n",
    "\n",
    "plt.legend(loc=\"upper left\")\n",
    "plt.title('Total Samples Tested')\n",
    "plt.plot()"
   ]
  },
  {
   "cell_type": "markdown",
   "metadata": {},
   "source": [
    "__Statewise Insights__"
   ]
  },
  {
   "cell_type": "code",
   "execution_count": null,
   "metadata": {},
   "outputs": [],
   "source": [
    "state_cases = india_covid_19.groupby('State/UnionTerritory')['Confirmed','Deaths','Cured'].max().reset_index()\n",
    "\n",
    "#state_cases = state_cases.astype({'Deaths': 'int'})\n",
    "state_cases['Active'] = state_cases['Confirmed'] - (state_cases['Deaths']+state_cases['Cured'])\n",
    "state_cases[\"Death Rate (per 100)\"] = np.round(100*state_cases[\"Deaths\"]/state_cases[\"Confirmed\"],2)\n",
    "state_cases[\"Cure Rate (per 100)\"] = np.round(100*state_cases[\"Cured\"]/state_cases[\"Confirmed\"],2)\n",
    "state_cases.sort_values('Confirmed', ascending= False).fillna(0).style.background_gradient(cmap='Blues',subset=[\"Confirmed\"])\\\n",
    "                        .background_gradient(cmap='Blues',subset=[\"Deaths\"])\\\n",
    "                        .background_gradient(cmap='Blues',subset=[\"Cured\"])\\\n",
    "                        .background_gradient(cmap='Blues',subset=[\"Active\"])\\\n",
    "                        .background_gradient(cmap='Blues',subset=[\"Death Rate (per 100)\"])\\\n",
    "                        .background_gradient(cmap='Blues',subset=[\"Cure Rate (per 100)\"])\n"
   ]
  },
  {
   "cell_type": "code",
   "execution_count": null,
   "metadata": {},
   "outputs": [],
   "source": [
    "all_state = list(india_covid_19['State/UnionTerritory'].unique())\n",
    "all_state.remove('Unassigned')\n",
    "#all_state.remove('Nagaland#')\n",
    "#all_state.remove('Nagaland')\n",
    "latest = india_covid_19[india_covid_19['Date'] > '24-03-20']\n",
    "state_cases = latest.groupby('State/UnionTerritory')['Confirmed','Deaths','Cured'].max().reset_index()\n",
    "latest['Active'] = latest['Confirmed'] - (latest['Deaths']- latest['Cured'])\n",
    "state_cases = state_cases.sort_values('Confirmed', ascending= False).fillna(0)\n",
    "states =list(state_cases['State/UnionTerritory'][0:15])\n",
    "\n",
    "states_confirmed = {}\n",
    "states_deaths = {}\n",
    "states_recovered = {}\n",
    "states_active = {}\n",
    "states_dates = {}\n",
    "\n",
    "for state in states:\n",
    "    df = latest[latest['State/UnionTerritory'] == state].reset_index()\n",
    "    k = []\n",
    "    l = []\n",
    "    m = []\n",
    "    n = []\n",
    "    for i in range(1,len(df)):\n",
    "        k.append(df['Confirmed'][i]-df['Confirmed'][i-1])\n",
    "        l.append(df['Deaths'][i]-df['Deaths'][i-1])\n",
    "        m.append(df['Cured'][i]-df['Cured'][i-1])\n",
    "        n.append(df['Active'][i]-df['Active'][i-1])\n",
    "    states_confirmed[state] = k\n",
    "    states_deaths[state] = l\n",
    "    states_recovered[state] = m\n",
    "    states_active[state] = n\n",
    "    date = list(df['Date'])\n",
    "    states_dates[state] = date[1:]\n",
    "    \n",
    "def calc_movingaverage(values ,N):    \n",
    "    cumsum, moving_aves = [0], [0,0]\n",
    "    for i, x in enumerate(values, 1):\n",
    "        cumsum.append(cumsum[i-1] + x)\n",
    "        if i>=N:\n",
    "            moving_ave = (cumsum[i] - cumsum[i-N])/N\n",
    "            moving_aves.append(moving_ave)\n",
    "    return moving_aves\n",
    "\n",
    "fig = plt.figure(figsize= (25,17))\n",
    "plt.suptitle('5-Day Moving Average of Confirmed Cases in Top 15 States',fontsize = 20,y=1.0)\n",
    "k=0\n",
    "for i in range(1,15):\n",
    "    ax = fig.add_subplot(5,3,i)\n",
    "    ax.xaxis.set_major_formatter(mdates.DateFormatter('%d-%b'))\n",
    "    ax.bar(states_dates[states[k]],states_confirmed[states[k]],label = 'Day wise Confirmed Cases ') \n",
    "    moving_aves = calc_movingaverage(states_confirmed[states[k]],5)\n",
    "    ax.plot(states_dates[states[k]][:-2],moving_aves,color='red',label = 'Moving Average',linewidth =3)  \n",
    "    plt.title(states[k],fontsize = 20)\n",
    "    handles, labels = ax.get_legend_handles_labels()\n",
    "    fig.legend(handles, labels, loc='upper left')\n",
    "    k=k+1\n",
    "plt.tight_layout(pad=3.0)"
   ]
  },
  {
   "cell_type": "markdown",
   "metadata": {},
   "source": [
    "__Big Increases: Rajasthan, TN, Gujarat, AP__"
   ]
  },
  {
   "cell_type": "code",
   "execution_count": null,
   "metadata": {},
   "outputs": [],
   "source": [
    "def calc_growthRate(values):\n",
    "    k = []\n",
    "    for i in range(1,len(values)):\n",
    "        summ = 0\n",
    "        for j in range(i):\n",
    "            summ = summ + values[j]\n",
    "        rate = (values[i]/summ)*100\n",
    "        k.append(int(rate))\n",
    "    return k\n",
    "\n",
    "fig = plt.figure(figsize= (25,17))\n",
    "plt.suptitle('Growth Rate in Top 15 States',fontsize = 20,y=1.0)\n",
    "k=0\n",
    "for i in range(1,15):\n",
    "    ax = fig.add_subplot(5,3,i)\n",
    "    ax.xaxis.set_major_formatter(mdates.DateFormatter('%d-%b'))\n",
    "    #ax.bar(states_dates[states[k]],states_confirmed[states[k]],label = 'Day wise Confirmed Cases ') \n",
    "    growth_rate = calc_growthRate(states_confirmed[states[k]])\n",
    "    ax.plot_date(states_dates[states[k]][21:],growth_rate[20:],color='red',label = 'Growth Rate',linewidth =3,linestyle='-')  \n",
    "    plt.title(states[k],fontsize = 20)\n",
    "    handles, labels = ax.get_legend_handles_labels()\n",
    "    fig.legend(handles, labels, loc='upper left')\n",
    "    k=k+1\n",
    "plt.tight_layout(pad=3.0)"
   ]
  },
  {
   "cell_type": "markdown",
   "metadata": {},
   "source": [
    "__Statewise Testing and Healthcare Insights__"
   ]
  },
  {
   "cell_type": "code",
   "execution_count": null,
   "metadata": {},
   "outputs": [],
   "source": [
    "hospital_beds =hospital_beds.drop([36])\n",
    "cols_object = list(hospital_beds.columns[2:8])\n",
    "\n",
    "for cols in cols_object:\n",
    "    hospital_beds[cols] = hospital_beds[cols].astype(int,errors = 'ignore')"
   ]
  },
  {
   "cell_type": "code",
   "execution_count": null,
   "metadata": {},
   "outputs": [],
   "source": [
    "top_10_primary = hospital_beds.nlargest(10,'NumPrimaryHealthCenters_HMIS')\n",
    "top_10_community = hospital_beds.nlargest(10,'NumCommunityHealthCenters_HMIS')\n",
    "top_10_district_hospitals = hospital_beds.nlargest(10,'NumDistrictHospitals_HMIS')\n",
    "top_10_public_facility = hospital_beds.nlargest(10,'TotalPublicHealthFacilities_HMIS')\n",
    "top_10_public_beds = hospital_beds.nlargest(10,'NumPublicBeds_HMIS')\n",
    "\n",
    "plt.figure(figsize=(15,10))\n",
    "plt.suptitle('Top 10 States in each Health Facility',fontsize=20)\n",
    "plt.subplot(221)\n",
    "plt.title('Primary Health Centers')\n",
    "plt.barh(top_10_primary['State/UT'],top_10_primary['NumPrimaryHealthCenters_HMIS'],color ='#87479d');\n",
    "\n",
    "plt.subplot(222)\n",
    "plt.title('Community Health Centers')\n",
    "plt.barh(top_10_community['State/UT'],top_10_community['NumCommunityHealthCenters_HMIS'],color = '#9370db');\n",
    "\n",
    "plt.subplot(224)\n",
    "plt.title('Total Public Health Facilities')\n",
    "plt.barh(top_10_community['State/UT'],top_10_public_facility['TotalPublicHealthFacilities_HMIS'],color='#9370db');\n",
    "\n",
    "plt.subplot(223)\n",
    "plt.title('District Hospitals')\n",
    "plt.barh(top_10_community['State/UT'],top_10_district_hospitals['NumDistrictHospitals_HMIS'],color = '#87479d');"
   ]
  },
  {
   "cell_type": "code",
   "execution_count": null,
   "metadata": {},
   "outputs": [],
   "source": [
    "top_rural_hos = hospital_beds.nlargest(10,'NumRuralHospitals_NHP18')\n",
    "top_rural_beds = hospital_beds.nlargest(10,'NumRuralBeds_NHP18')\n",
    "top_urban_hos = hospital_beds.nlargest(10,'NumUrbanHospitals_NHP18')\n",
    "top_urban_beds = hospital_beds.nlargest(10,'NumUrbanBeds_NHP18')\n",
    "\n",
    "plt.figure(figsize=(15,10))\n",
    "plt.suptitle('Urban and Rural Health Facility',fontsize=20)\n",
    "plt.subplot(221)\n",
    "plt.title('Rural Hospitals')\n",
    "plt.barh(top_rural_hos['State/UT'],top_rural_hos['NumRuralHospitals_NHP18'],color = '#87479d');\n",
    "\n",
    "plt.subplot(222)\n",
    "plt.title('Urban Hospitals')\n",
    "plt.barh(top_urban_hos['State/UT'],top_urban_hos['NumUrbanHospitals_NHP18'],color = '#9370db');\n",
    "\n",
    "plt.subplot(223)\n",
    "plt.title('Rural Beds')\n",
    "plt.barh(top_rural_beds['State/UT'],top_rural_beds['NumRuralBeds_NHP18'],color = '#87479d');\n",
    "\n",
    "plt.subplot(224)\n",
    "plt.title('Urban Beds')\n",
    "plt.barh(top_urban_beds['State/UT'],top_urban_beds['NumUrbanBeds_NHP18'],color = '#9370db');"
   ]
  },
  {
   "cell_type": "code",
   "execution_count": null,
   "metadata": {},
   "outputs": [],
   "source": [
    "state_test = pd.pivot_table(state_testing, values=['TotalSamples','Negative','Positive'], index='State', aggfunc='max')\n",
    "state_names = list(state_test.index)\n",
    "state_test['State'] = state_names\n",
    "\n",
    "plt.figure(figsize=(15,10))\n",
    "sns.set_color_codes(\"pastel\")\n",
    "sns.barplot(x=\"TotalSamples\", y= state_names, data=state_test,label=\"Total Samples\", color = '#9370db')\n",
    "sns.barplot(x='Negative', y=state_names, data=state_test,label='Negative', color= '#ff9999')\n",
    "sns.barplot(x='Positive', y=state_names, data=state_test,label='Positive', color='#87479d')\n",
    "plt.title('Testing statewise insight',fontsize = 20)\n",
    "plt.legend(ncol=2, loc=\"lower right\", frameon=True);"
   ]
  },
  {
   "cell_type": "code",
   "execution_count": null,
   "metadata": {},
   "outputs": [],
   "source": [
    "values = list(ICMR_labs['state'].value_counts())\n",
    "names = list(ICMR_labs['state'].value_counts().index)\n",
    "\n",
    "plt.figure(figsize=(15,10))\n",
    "sns.set_color_codes(\"pastel\")\n",
    "plt.title('ICMR Testing Centers in each State', fontsize = 20)\n",
    "sns.barplot(x= values, y= names,color = '#9370db');"
   ]
  },
  {
   "cell_type": "code",
   "execution_count": null,
   "metadata": {},
   "outputs": [],
   "source": [
    "import IPython\n",
    "iframe = '<iframe src=' + 'https://www.covid19india.org' + ' width=900 height=450></iframe>'\n",
    "IPython.display.HTML(iframe)"
   ]
  },
  {
   "cell_type": "code",
   "execution_count": null,
   "metadata": {},
   "outputs": [],
   "source": [
    "from IPython.core.display import HTML\n",
    "HTML('''<div class=\"flourish-embed flourish-bar-chart-race\" data-src=\"visualisation/1571387\"><script src=\"https://public.flourish.studio/resources/embed.js\"></script></div>''')\n",
    "HTML('''<div class=\"flourish-embed flourish-map\" data-src=\"story/225979\"><script src=\"https://public.flourish.studio/resources/embed.js\"></script></div>''')\n",
    "\n",
    "#[Code Soure:](https://flourish.studio/)"
   ]
  },
  {
   "cell_type": "markdown",
   "metadata": {},
   "source": [
    "<h6 align=center><font size = 6>Comparison with similar Epidemics</font></h6>\n",
    "\n",
    "**Source Link**\n",
    "* [Severe acute respiratory syndrome (**SARS**)](https://www.who.int/csr/sars/country/2003_07_11/en/)\n",
    "* [**EBOLA** or Ebola virus disease (**EVD**)](https://en.wikipedia.org/wiki/Ebola)\n",
    "* [Middle East respiratory syndrome coronavirus (**MERS**)](https://www.who.int/emergencies/mers-cov/en/)\n",
    "* [2009 swine flu (**H1N1**)](https://en.wikipedia.org/wiki/2009_swine_flu_pandemic_by_country)"
   ]
  },
  {
   "cell_type": "code",
   "execution_count": null,
   "metadata": {},
   "outputs": [],
   "source": [
    "epidemics = pd.DataFrame({\n",
    "    'epidemic' : ['COVID-19', 'SARS', 'EBOLA', 'MERS', 'H1N1'],\n",
    "    'start_year' : [2019, 2002, 1976, 2012, 2009],\n",
    "    'end_year' : ['NA', 2003, 2016, 2017, 2010],\n",
    "    'confirmed' : [confirmed_df[confirmed_df.columns[-1]].sum(), 8437, 28646, 2494, 6724149],\n",
    "    'deaths' : [deaths_df[deaths_df.columns[-1]].sum(), 813, 11323, 858, 19654]\n",
    "})\n",
    "\n",
    "epidemics['mortality'] = round((epidemics['deaths']/epidemics['confirmed'])*100, 2)\n",
    "print('\\033[1m' + '\\033[4m'+ '\\n\\tWorld Total Epidemic Cases Till Date ')\n",
    "display(epidemics.style.background_gradient(cmap='summer_r',axis=1))"
   ]
  },
  {
   "cell_type": "code",
   "execution_count": null,
   "metadata": {},
   "outputs": [],
   "source": [
    "temp = epidemics.melt(id_vars='epidemic', value_vars=['confirmed', 'deaths', 'mortality'], var_name='Case', value_name='Value')\n",
    "\n",
    "fig = px.bar(temp, x=\"epidemic\", y=\"Value\", color='epidemic', text='Value', facet_col=\"Case\",\n",
    "             color_discrete_sequence = px.colors.qualitative.Bold)\n",
    "fig.update_traces(textposition='outside')\n",
    "fig.update_layout(uniformtext_minsize=8, uniformtext_mode='hide')\n",
    "fig.update_yaxes(showticklabels=False)\n",
    "fig.layout.yaxis2.update(matches=None)\n",
    "fig.layout.yaxis3.update(matches=None)\n",
    "fig\n",
    "#fig.show()   #use when runnig code in IDE other then Jupyter Notebbok"
   ]
  },
  {
   "cell_type": "markdown",
   "metadata": {},
   "source": [
    "## Remember that even death counts are uncertain\n",
    "\n",
    "Data that tracks COVID-19 death counts is still a gray area. Though some experts prefer to measure the pandemic’s severity using the number of deaths instead of total cases, several factors could bias COVID-19 mortality data.\n",
    "\n",
    "There are some concerns that official death statistics may overcount COVID-19 fatalities by assuming any patient who tests positive for the virus was killed by it. But Marc Lipsitch, a Harvard University epidemiologist, told [FactCheck.org](https://factcheck.org/2020/04/social-media-posts-make-baseless-claim-on-covid-19-death-toll/) that “the number of such cases will be small.” Undercounting is a bigger problem, he says. “A greater issue is errors in the other direction.”\n",
    "\n",
    "If people die from COVID-19 before they are tested, their death might not be included in the official tally. For example, a [WNYC/Gothamist investigation](https://gothamist.com/news/surge-number-new-yorkers-dying-home-officials-suspect-undercount-covid-19-related-deaths) found that as of Tuesday, April 7, around 200 New Yorkers had died at home every day without access to testing and medical treatment. That’s 10 times higher than NYC’s typical at-home death rate. These deaths are likely caused by COVID-19. If this effect is widespread in the United States, that means official statistics undercount the disease’s fatality rate.\n",
    "\n",
    "To get better grounding when interpreting death rates, consider comparing COVID-19 mortality rates for a given location since the beginning of the outbreak to fatalities during the same period in previous years.\n",
    "\n",
    "## Be clear and honest\n",
    "\n",
    "While news is moving faster than ever to keep up with the pace of the pandemic spread, designers and visualization experts’ goal is to present COVID-19 data in a clear and honest way. Provide context, and consider the tips above to avoid common pitfalls in data reporting as we seek to inform people during this time of crisis."
   ]
  },
  {
   "cell_type": "markdown",
   "metadata": {},
   "source": [
    "[Other notebook](./2_EDA_&_Viz_Project.ipynb)"
   ]
  }
 ],
 "metadata": {
  "hide_input": false,
  "kernelspec": {
   "display_name": "Python 3",
   "language": "python",
   "name": "python3"
  },
  "language_info": {
   "codemirror_mode": {
    "name": "ipython",
    "version": 3
   },
   "file_extension": ".py",
   "mimetype": "text/x-python",
   "name": "python",
   "nbconvert_exporter": "python",
   "pygments_lexer": "ipython3",
   "version": "3.7.4"
  },
  "latex_envs": {
   "LaTeX_envs_menu_present": true,
   "autoclose": false,
   "autocomplete": true,
   "bibliofile": "biblio.bib",
   "cite_by": "apalike",
   "current_citInitial": 1,
   "eqLabelWithNumbers": true,
   "eqNumInitial": 1,
   "hotkeys": {
    "equation": "Ctrl-E",
    "itemize": "Ctrl-I"
   },
   "labels_anchors": false,
   "latex_user_defs": false,
   "report_style_numbering": false,
   "user_envs_cfg": false
  },
  "toc": {
   "base_numbering": 1,
   "nav_menu": {},
   "number_sections": true,
   "sideBar": true,
   "skip_h1_title": false,
   "title_cell": "Table of Contents",
   "title_sidebar": "Contents",
   "toc_cell": false,
   "toc_position": {},
   "toc_section_display": true,
   "toc_window_display": false
  }
 },
 "nbformat": 4,
 "nbformat_minor": 2
}
